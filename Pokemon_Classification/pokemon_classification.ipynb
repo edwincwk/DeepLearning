{
 "cells": [
  {
   "cell_type": "code",
   "execution_count": 1,
   "metadata": {},
   "outputs": [
    {
     "name": "stderr",
     "output_type": "stream",
     "text": [
      "Using TensorFlow backend.\n"
     ]
    }
   ],
   "source": [
    "import glob\n",
    "import pandas as pd\n",
    "import numpy as np\n",
    "import matplotlib.pyplot as plt\n",
    "import seaborn as sns \n",
    "import cv2\n",
    "from imageio import imread\n",
    "from PIL import Image\n",
    "from keras import layers, optimizers\n",
    "from keras.models import Sequential, load_model\n",
    "from keras.layers import Dense, Activation, Embedding, Flatten, BatchNormalization, Dropout,  InputLayer\n",
    "from keras.wrappers.scikit_learn import KerasClassifier\n",
    "from keras.applications import vgg16\n",
    "from keras.preprocessing import image\n",
    "from keras.preprocessing.image import ImageDataGenerator, load_img, img_to_array, array_to_img\n",
    "from keras.utils import to_categorical\n",
    "from keras.models import Model\n",
    "from sklearn.preprocessing import LabelEncoder, StandardScaler\n",
    "from sklearn.model_selection import train_test_split\n",
    "from sklearn.metrics import classification_report, confusion_matrix, accuracy_score, precision_score, recall_score, f1_score"
   ]
  },
  {
   "cell_type": "markdown",
   "metadata": {},
   "source": [
    "#### Image Handling and Preparation"
   ]
  },
  {
   "cell_type": "markdown",
   "metadata": {},
   "source": [
    "Load the files."
   ]
  },
  {
   "cell_type": "code",
   "execution_count": 2,
   "metadata": {},
   "outputs": [
    {
     "data": {
      "text/plain": [
       "['pikachu\\\\00000186.png',\n",
       " 'pikachu\\\\00000187.jpg',\n",
       " 'pikachu\\\\00000188.jpg',\n",
       " 'pikachu\\\\00000189.jpg',\n",
       " 'pikachu\\\\00000190.png',\n",
       " 'pikachu\\\\00000191.jpg',\n",
       " 'pikachu\\\\00000192.jpg',\n",
       " 'pikachu\\\\00000193.png',\n",
       " 'pikachu\\\\00000194.jpg',\n",
       " 'pikachu\\\\00000195.jpg',\n",
       " 'pikachu\\\\00000196.jpg',\n",
       " 'pikachu\\\\00000197.jpg',\n",
       " 'pikachu\\\\00000198.jpg',\n",
       " 'pikachu\\\\00000199.jpg',\n",
       " 'pikachu\\\\00000200.jpg',\n",
       " 'pikachu\\\\00000201.png',\n",
       " 'pikachu\\\\00000202.jpg',\n",
       " 'pikachu\\\\00000203.jpg',\n",
       " 'pikachu\\\\00000204.png',\n",
       " 'pikachu\\\\00000205.png',\n",
       " 'pikachu\\\\00000206.jpg',\n",
       " 'pikachu\\\\00000207.jpg',\n",
       " 'pikachu\\\\00000208.jpg',\n",
       " 'pikachu\\\\00000209.jpg',\n",
       " 'pikachu\\\\00000210.png',\n",
       " 'pikachu\\\\00000211.png',\n",
       " 'pikachu\\\\00000212.jpg',\n",
       " 'pikachu\\\\00000213.jpg',\n",
       " 'pikachu\\\\00000214.jpg',\n",
       " 'pikachu\\\\00000215.png',\n",
       " 'pikachu\\\\00000216.jpg',\n",
       " 'pikachu\\\\00000217.png',\n",
       " 'pikachu\\\\00000218.png',\n",
       " 'pikachu\\\\00000219.jpg',\n",
       " 'pikachu\\\\00000220.png',\n",
       " 'pikachu\\\\00000221.jpg',\n",
       " 'pikachu\\\\00000223.png',\n",
       " 'pikachu\\\\00000224.jpg',\n",
       " 'pikachu\\\\00000225.jpg',\n",
       " 'pikachu\\\\00000226.png',\n",
       " 'pikachu\\\\00000227.jpg',\n",
       " 'pikachu\\\\00000228.png',\n",
       " 'pikachu\\\\00000229.jpg',\n",
       " 'pikachu\\\\00000230.png',\n",
       " 'pikachu\\\\00000232.png',\n",
       " 'pikachu\\\\00000233.png',\n",
       " 'pikachu\\\\00000234.png',\n",
       " 'pikachu\\\\00000235.jpg',\n",
       " 'pikachu\\\\00000237.jpg',\n",
       " 'pikachu\\\\00000238.png']"
      ]
     },
     "execution_count": 2,
     "metadata": {},
     "output_type": "execute_result"
    }
   ],
   "source": [
    "#load the images from the different pokemon subfolders\n",
    "pika = glob.glob(\"pikachu\\*\")\n",
    "squ = glob.glob(\"squirtle\\*\")\n",
    "mew = glob.glob(\"mewtwo\\*\")\n",
    "balba = glob.glob(\"balbasaur\\*\")\n",
    "char = glob.glob(\"charmander\\*\")\n",
    "pika"
   ]
  },
  {
   "cell_type": "markdown",
   "metadata": {},
   "source": [
    "Separate the files into train, test and validation set."
   ]
  },
  {
   "cell_type": "code",
   "execution_count": 3,
   "metadata": {},
   "outputs": [],
   "source": [
    "#Select the training dataset\n",
    "pika_train = np.random.choice(pika, size=30, replace=False)\n",
    "squ_train = np.random.choice(squ, size=30, replace=False)\n",
    "mew_train = np.random.choice(mew, size=30, replace=False)\n",
    "balba_train = np.random.choice(balba, size=30, replace=False)\n",
    "char_train = np.random.choice(char, size=30, replace=False)\n",
    "\n",
    "#remaining images after allocating to training dataset\n",
    "pika_f = list(set(pika) - set(pika_train))\n",
    "squ_f = list(set(squ) - set(squ_train))\n",
    "mew_f = list(set(mew) - set(mew_train))\n",
    "balba_f = list(set(balba) - set(balba_train))\n",
    "char_f = list(set(char) - set(char_train))\n",
    "\n",
    "#Select the validation dataset\n",
    "pika_val = np.random.choice(pika_f, size=10, replace=False)\n",
    "squ_val = np.random.choice(squ_f, size=10, replace=False)\n",
    "mew_val = np.random.choice(mew_f, size=10, replace=False)\n",
    "balba_val = np.random.choice(balba_f, size=10, replace=False)\n",
    "char_val = np.random.choice(char_f, size=10, replace=False)\n",
    "\n",
    "#remaining images after allocating to validation dataset\n",
    "pika_f = list(set(pika_f) - set(pika_val))\n",
    "squ_f = list(set(squ_f) - set(squ_val))\n",
    "mew_f = list(set(mew_f) - set(mew_val))\n",
    "balba_f = list(set(balba_f) - set(balba_val))\n",
    "char_f = list(set(char_f) - set(char_val))\n",
    "\n",
    "#remaining images to testing dataset\n",
    "pika_test = np.array(pika_f)\n",
    "squ_test = np.array(squ_f)\n",
    "mew_test = np.array(mew_f)\n",
    "balba_test = np.array(balba_f)\n",
    "char_test = np.array(char_f)"
   ]
  },
  {
   "cell_type": "markdown",
   "metadata": {},
   "source": [
    "Combine the train, test and validation dataset of different pokemon classes."
   ]
  },
  {
   "cell_type": "code",
   "execution_count": 4,
   "metadata": {
    "scrolled": true
   },
   "outputs": [
    {
     "name": "stdout",
     "output_type": "stream",
     "text": [
      "(150,)\n"
     ]
    },
    {
     "data": {
      "text/plain": [
       "array(['pikachu\\\\00000212.jpg', 'pikachu\\\\00000232.png',\n",
       "       'pikachu\\\\00000198.jpg', 'pikachu\\\\00000213.jpg',\n",
       "       'pikachu\\\\00000216.jpg', 'pikachu\\\\00000233.png',\n",
       "       'pikachu\\\\00000193.png', 'pikachu\\\\00000207.jpg',\n",
       "       'pikachu\\\\00000195.jpg', 'pikachu\\\\00000196.jpg',\n",
       "       'pikachu\\\\00000205.png', 'pikachu\\\\00000201.png',\n",
       "       'pikachu\\\\00000190.png', 'pikachu\\\\00000220.png',\n",
       "       'pikachu\\\\00000214.jpg', 'pikachu\\\\00000215.png',\n",
       "       'pikachu\\\\00000203.jpg', 'pikachu\\\\00000228.png',\n",
       "       'pikachu\\\\00000218.png', 'pikachu\\\\00000219.jpg',\n",
       "       'pikachu\\\\00000200.jpg', 'pikachu\\\\00000211.png',\n",
       "       'pikachu\\\\00000238.png', 'pikachu\\\\00000217.png',\n",
       "       'pikachu\\\\00000235.jpg', 'pikachu\\\\00000209.jpg',\n",
       "       'pikachu\\\\00000194.jpg', 'pikachu\\\\00000210.png',\n",
       "       'pikachu\\\\00000223.png', 'pikachu\\\\00000221.jpg',\n",
       "       'squirtle\\\\00000180.jpg', 'squirtle\\\\00000179.png',\n",
       "       'squirtle\\\\00000197.jpg', 'squirtle\\\\00000185.jpg',\n",
       "       'squirtle\\\\00000206.png', 'squirtle\\\\00000191.jpg',\n",
       "       'squirtle\\\\00000199.png', 'squirtle\\\\00000190.jpg',\n",
       "       'squirtle\\\\00000198.jpg', 'squirtle\\\\00000220.jpg',\n",
       "       'squirtle\\\\00000210.png', 'squirtle\\\\00000182.jpg',\n",
       "       'squirtle\\\\00000218.jpg', 'squirtle\\\\00000216.png',\n",
       "       'squirtle\\\\00000228.jpg', 'squirtle\\\\00000181.jpg',\n",
       "       'squirtle\\\\00000184.jpg', 'squirtle\\\\00000213.png',\n",
       "       'squirtle\\\\00000214.jpg', 'squirtle\\\\00000215.jpg',\n",
       "       'squirtle\\\\00000196.jpg', 'squirtle\\\\00000209.jpg',\n",
       "       'squirtle\\\\00000188.jpg', 'squirtle\\\\00000194.jpg',\n",
       "       'squirtle\\\\00000230.jpg', 'squirtle\\\\00000221.jpg',\n",
       "       'squirtle\\\\00000217.jpg', 'squirtle\\\\00000203.jpg',\n",
       "       'squirtle\\\\00000223.jpg', 'squirtle\\\\00000202.jpg',\n",
       "       'mewtwo\\\\00000215.jpg', 'mewtwo\\\\00000229.png',\n",
       "       'mewtwo\\\\00000213.jpg', 'mewtwo\\\\00000220.png',\n",
       "       'mewtwo\\\\00000194.jpg', 'mewtwo\\\\00000212.png',\n",
       "       'mewtwo\\\\00000228.jpg', 'mewtwo\\\\00000196.jpg',\n",
       "       'mewtwo\\\\00000242.png', 'mewtwo\\\\00000225.jpg',\n",
       "       'mewtwo\\\\00000205.png', 'mewtwo\\\\00000227.jpg',\n",
       "       'mewtwo\\\\00000240.jpg', 'mewtwo\\\\00000233.png',\n",
       "       'mewtwo\\\\00000217.png', 'mewtwo\\\\00000198.jpg',\n",
       "       'mewtwo\\\\00000201.png', 'mewtwo\\\\00000216.jpg',\n",
       "       'mewtwo\\\\00000241.png', 'mewtwo\\\\00000235.jpg',\n",
       "       'mewtwo\\\\00000232.jpg', 'mewtwo\\\\00000197.jpg',\n",
       "       'mewtwo\\\\00000219.jpg', 'mewtwo\\\\00000218.jpg',\n",
       "       'mewtwo\\\\00000224.jpg', 'mewtwo\\\\00000206.png',\n",
       "       'mewtwo\\\\00000244.jpg', 'mewtwo\\\\00000211.jpg',\n",
       "       'mewtwo\\\\00000230.jpg', 'mewtwo\\\\00000210.jpg',\n",
       "       'balbasaur\\\\00000099.png', 'balbasaur\\\\00000114.png',\n",
       "       'balbasaur\\\\00000084.jpg', 'balbasaur\\\\00000075.png',\n",
       "       'balbasaur\\\\00000100.jpg', 'balbasaur\\\\00000129.jpg',\n",
       "       'balbasaur\\\\00000121.png', 'balbasaur\\\\00000118.jpg',\n",
       "       'balbasaur\\\\00000093.png', 'balbasaur\\\\00000108.jpg',\n",
       "       'balbasaur\\\\00000092.jpg', 'balbasaur\\\\00000077.jpg',\n",
       "       'balbasaur\\\\00000123.jpg', 'balbasaur\\\\00000080.jpg',\n",
       "       'balbasaur\\\\00000127.jpg', 'balbasaur\\\\00000081.jpg',\n",
       "       'balbasaur\\\\00000117.png', 'balbasaur\\\\00000230.jpg',\n",
       "       'balbasaur\\\\00000128.png', 'balbasaur\\\\00000120.png',\n",
       "       'balbasaur\\\\00000106.png', 'balbasaur\\\\00000109.png',\n",
       "       'balbasaur\\\\00000126.png', 'balbasaur\\\\00000078.jpg',\n",
       "       'balbasaur\\\\00000101.png', 'balbasaur\\\\00000097.png',\n",
       "       'balbasaur\\\\00000072.png', 'balbasaur\\\\00000079.jpg',\n",
       "       'balbasaur\\\\00000125.jpg', 'balbasaur\\\\00000085.png',\n",
       "       'charmander\\\\00000213.jpg', 'charmander\\\\00000240.jpg',\n",
       "       'charmander\\\\00000227.jpg', 'charmander\\\\00000237.png',\n",
       "       'charmander\\\\00000224.jpg', 'charmander\\\\00000215.jpg',\n",
       "       'charmander\\\\00000208.jpg', 'charmander\\\\00000199.jpg',\n",
       "       'charmander\\\\00000222.jpg', 'charmander\\\\00000200.jpg',\n",
       "       'charmander\\\\00000219.png', 'charmander\\\\00000221.jpg',\n",
       "       'charmander\\\\00000045.png', 'charmander\\\\00000214.jpg',\n",
       "       'charmander\\\\00000198.jpg', 'charmander\\\\00000066.jpg',\n",
       "       'charmander\\\\00000229.png', 'charmander\\\\00000243.jpg',\n",
       "       'charmander\\\\00000217.png', 'charmander\\\\00000231.jpg',\n",
       "       'charmander\\\\00000233.jpg', 'charmander\\\\00000210.png',\n",
       "       'charmander\\\\00000236.jpg', 'charmander\\\\00000232.jpg',\n",
       "       'charmander\\\\00000244.jpg', 'charmander\\\\00000212.jpg',\n",
       "       'charmander\\\\00000223.png', 'charmander\\\\00000241.jpg',\n",
       "       'charmander\\\\00000205.jpg', 'charmander\\\\00000234.jpg'],\n",
       "      dtype='<U23')"
      ]
     },
     "execution_count": 4,
     "metadata": {},
     "output_type": "execute_result"
    }
   ],
   "source": [
    "train = np.concatenate([pika_train, squ_train, mew_train, balba_train, char_train]) #combine the different classes\n",
    "val = np.concatenate([pika_val, squ_val, mew_val, balba_val, char_val])\n",
    "test = np.concatenate([pika_test, squ_test, mew_test, balba_test, char_test])\n",
    "\n",
    "print(train.shape)\n",
    "train"
   ]
  },
  {
   "cell_type": "markdown",
   "metadata": {},
   "source": [
    "Resize the images in the training and validation dataset and categorise the labels."
   ]
  },
  {
   "cell_type": "code",
   "execution_count": 5,
   "metadata": {},
   "outputs": [
    {
     "data": {
      "text/plain": [
       "['pikachu',\n",
       " 'pikachu',\n",
       " 'pikachu',\n",
       " 'pikachu',\n",
       " 'pikachu',\n",
       " 'pikachu',\n",
       " 'pikachu',\n",
       " 'pikachu',\n",
       " 'pikachu',\n",
       " 'pikachu',\n",
       " 'squirtle',\n",
       " 'squirtle',\n",
       " 'squirtle',\n",
       " 'squirtle',\n",
       " 'squirtle',\n",
       " 'squirtle',\n",
       " 'squirtle',\n",
       " 'squirtle',\n",
       " 'squirtle',\n",
       " 'squirtle',\n",
       " 'mewtwo',\n",
       " 'mewtwo',\n",
       " 'mewtwo',\n",
       " 'mewtwo',\n",
       " 'mewtwo',\n",
       " 'mewtwo',\n",
       " 'mewtwo',\n",
       " 'mewtwo',\n",
       " 'mewtwo',\n",
       " 'mewtwo',\n",
       " 'balbasaur',\n",
       " 'balbasaur',\n",
       " 'balbasaur',\n",
       " 'balbasaur',\n",
       " 'balbasaur',\n",
       " 'balbasaur',\n",
       " 'balbasaur',\n",
       " 'balbasaur',\n",
       " 'balbasaur',\n",
       " 'balbasaur',\n",
       " 'charmander',\n",
       " 'charmander',\n",
       " 'charmander',\n",
       " 'charmander',\n",
       " 'charmander',\n",
       " 'charmander',\n",
       " 'charmander',\n",
       " 'charmander',\n",
       " 'charmander',\n",
       " 'charmander']"
      ]
     },
     "execution_count": 5,
     "metadata": {},
     "output_type": "execute_result"
    }
   ],
   "source": [
    "IMG_DIM = (150, 150, 3)  #intended dimension\n",
    "\n",
    "#resizing training dataset and spliting name of label according to their category\n",
    "train_images = [img_to_array(load_img(im, target_size=IMG_DIM)) for im in train]\n",
    "train_images = np.array(train_images)\n",
    "train_labels = [w.split(\"\\\\\")[0].split(\".\")[0].strip() for w in train]\n",
    "\n",
    "#resizing validation dataset and spliting name of label according to their category\n",
    "validation_images = [img_to_array(load_img(im, target_size=IMG_DIM)) for im in val]\n",
    "validation_images = np.array(validation_images)\n",
    "validation_labels = [w.split(\"\\\\\")[0].split(\".\")[0].strip() for w in val]\n",
    "validation_labels"
   ]
  },
  {
   "cell_type": "markdown",
   "metadata": {},
   "source": [
    "Normalize the values."
   ]
  },
  {
   "cell_type": "code",
   "execution_count": 107,
   "metadata": {},
   "outputs": [],
   "source": [
    "train_imgs_sca = train_images.astype(\"float32\")/ 255.0             #normalize the training and validation features\n",
    "validation_imgs_sca = validation_images.astype(\"float32\") / 255.0"
   ]
  },
  {
   "cell_type": "markdown",
   "metadata": {},
   "source": [
    "Encode the labels."
   ]
  },
  {
   "cell_type": "code",
   "execution_count": 108,
   "metadata": {},
   "outputs": [
    {
     "data": {
      "text/plain": [
       "array([[0., 0., 0., 1., 0.],\n",
       "       [0., 0., 0., 1., 0.],\n",
       "       [0., 0., 0., 1., 0.],\n",
       "       [0., 0., 0., 1., 0.],\n",
       "       [0., 0., 0., 1., 0.],\n",
       "       [0., 0., 0., 1., 0.],\n",
       "       [0., 0., 0., 1., 0.],\n",
       "       [0., 0., 0., 1., 0.],\n",
       "       [0., 0., 0., 1., 0.],\n",
       "       [0., 0., 0., 1., 0.],\n",
       "       [0., 0., 0., 1., 0.],\n",
       "       [0., 0., 0., 1., 0.],\n",
       "       [0., 0., 0., 1., 0.],\n",
       "       [0., 0., 0., 1., 0.],\n",
       "       [0., 0., 0., 1., 0.],\n",
       "       [0., 0., 0., 1., 0.],\n",
       "       [0., 0., 0., 1., 0.],\n",
       "       [0., 0., 0., 1., 0.],\n",
       "       [0., 0., 0., 1., 0.],\n",
       "       [0., 0., 0., 1., 0.],\n",
       "       [0., 0., 0., 1., 0.],\n",
       "       [0., 0., 0., 1., 0.],\n",
       "       [0., 0., 0., 1., 0.],\n",
       "       [0., 0., 0., 1., 0.],\n",
       "       [0., 0., 0., 1., 0.],\n",
       "       [0., 0., 0., 1., 0.],\n",
       "       [0., 0., 0., 1., 0.],\n",
       "       [0., 0., 0., 1., 0.],\n",
       "       [0., 0., 0., 1., 0.],\n",
       "       [0., 0., 0., 1., 0.],\n",
       "       [0., 0., 0., 0., 1.],\n",
       "       [0., 0., 0., 0., 1.],\n",
       "       [0., 0., 0., 0., 1.],\n",
       "       [0., 0., 0., 0., 1.],\n",
       "       [0., 0., 0., 0., 1.],\n",
       "       [0., 0., 0., 0., 1.],\n",
       "       [0., 0., 0., 0., 1.],\n",
       "       [0., 0., 0., 0., 1.],\n",
       "       [0., 0., 0., 0., 1.],\n",
       "       [0., 0., 0., 0., 1.],\n",
       "       [0., 0., 0., 0., 1.],\n",
       "       [0., 0., 0., 0., 1.],\n",
       "       [0., 0., 0., 0., 1.],\n",
       "       [0., 0., 0., 0., 1.],\n",
       "       [0., 0., 0., 0., 1.],\n",
       "       [0., 0., 0., 0., 1.],\n",
       "       [0., 0., 0., 0., 1.],\n",
       "       [0., 0., 0., 0., 1.],\n",
       "       [0., 0., 0., 0., 1.],\n",
       "       [0., 0., 0., 0., 1.],\n",
       "       [0., 0., 0., 0., 1.],\n",
       "       [0., 0., 0., 0., 1.],\n",
       "       [0., 0., 0., 0., 1.],\n",
       "       [0., 0., 0., 0., 1.],\n",
       "       [0., 0., 0., 0., 1.],\n",
       "       [0., 0., 0., 0., 1.],\n",
       "       [0., 0., 0., 0., 1.],\n",
       "       [0., 0., 0., 0., 1.],\n",
       "       [0., 0., 0., 0., 1.],\n",
       "       [0., 0., 0., 0., 1.],\n",
       "       [0., 0., 1., 0., 0.],\n",
       "       [0., 0., 1., 0., 0.],\n",
       "       [0., 0., 1., 0., 0.],\n",
       "       [0., 0., 1., 0., 0.],\n",
       "       [0., 0., 1., 0., 0.],\n",
       "       [0., 0., 1., 0., 0.],\n",
       "       [0., 0., 1., 0., 0.],\n",
       "       [0., 0., 1., 0., 0.],\n",
       "       [0., 0., 1., 0., 0.],\n",
       "       [0., 0., 1., 0., 0.],\n",
       "       [0., 0., 1., 0., 0.],\n",
       "       [0., 0., 1., 0., 0.],\n",
       "       [0., 0., 1., 0., 0.],\n",
       "       [0., 0., 1., 0., 0.],\n",
       "       [0., 0., 1., 0., 0.],\n",
       "       [0., 0., 1., 0., 0.],\n",
       "       [0., 0., 1., 0., 0.],\n",
       "       [0., 0., 1., 0., 0.],\n",
       "       [0., 0., 1., 0., 0.],\n",
       "       [0., 0., 1., 0., 0.],\n",
       "       [0., 0., 1., 0., 0.],\n",
       "       [0., 0., 1., 0., 0.],\n",
       "       [0., 0., 1., 0., 0.],\n",
       "       [0., 0., 1., 0., 0.],\n",
       "       [0., 0., 1., 0., 0.],\n",
       "       [0., 0., 1., 0., 0.],\n",
       "       [0., 0., 1., 0., 0.],\n",
       "       [0., 0., 1., 0., 0.],\n",
       "       [0., 0., 1., 0., 0.],\n",
       "       [0., 0., 1., 0., 0.],\n",
       "       [1., 0., 0., 0., 0.],\n",
       "       [1., 0., 0., 0., 0.],\n",
       "       [1., 0., 0., 0., 0.],\n",
       "       [1., 0., 0., 0., 0.],\n",
       "       [1., 0., 0., 0., 0.],\n",
       "       [1., 0., 0., 0., 0.],\n",
       "       [1., 0., 0., 0., 0.],\n",
       "       [1., 0., 0., 0., 0.],\n",
       "       [1., 0., 0., 0., 0.],\n",
       "       [1., 0., 0., 0., 0.],\n",
       "       [1., 0., 0., 0., 0.],\n",
       "       [1., 0., 0., 0., 0.],\n",
       "       [1., 0., 0., 0., 0.],\n",
       "       [1., 0., 0., 0., 0.],\n",
       "       [1., 0., 0., 0., 0.],\n",
       "       [1., 0., 0., 0., 0.],\n",
       "       [1., 0., 0., 0., 0.],\n",
       "       [1., 0., 0., 0., 0.],\n",
       "       [1., 0., 0., 0., 0.],\n",
       "       [1., 0., 0., 0., 0.],\n",
       "       [1., 0., 0., 0., 0.],\n",
       "       [1., 0., 0., 0., 0.],\n",
       "       [1., 0., 0., 0., 0.],\n",
       "       [1., 0., 0., 0., 0.],\n",
       "       [1., 0., 0., 0., 0.],\n",
       "       [1., 0., 0., 0., 0.],\n",
       "       [1., 0., 0., 0., 0.],\n",
       "       [1., 0., 0., 0., 0.],\n",
       "       [1., 0., 0., 0., 0.],\n",
       "       [1., 0., 0., 0., 0.],\n",
       "       [0., 1., 0., 0., 0.],\n",
       "       [0., 1., 0., 0., 0.],\n",
       "       [0., 1., 0., 0., 0.],\n",
       "       [0., 1., 0., 0., 0.],\n",
       "       [0., 1., 0., 0., 0.],\n",
       "       [0., 1., 0., 0., 0.],\n",
       "       [0., 1., 0., 0., 0.],\n",
       "       [0., 1., 0., 0., 0.],\n",
       "       [0., 1., 0., 0., 0.],\n",
       "       [0., 1., 0., 0., 0.],\n",
       "       [0., 1., 0., 0., 0.],\n",
       "       [0., 1., 0., 0., 0.],\n",
       "       [0., 1., 0., 0., 0.],\n",
       "       [0., 1., 0., 0., 0.],\n",
       "       [0., 1., 0., 0., 0.],\n",
       "       [0., 1., 0., 0., 0.],\n",
       "       [0., 1., 0., 0., 0.],\n",
       "       [0., 1., 0., 0., 0.],\n",
       "       [0., 1., 0., 0., 0.],\n",
       "       [0., 1., 0., 0., 0.],\n",
       "       [0., 1., 0., 0., 0.],\n",
       "       [0., 1., 0., 0., 0.],\n",
       "       [0., 1., 0., 0., 0.],\n",
       "       [0., 1., 0., 0., 0.],\n",
       "       [0., 1., 0., 0., 0.],\n",
       "       [0., 1., 0., 0., 0.],\n",
       "       [0., 1., 0., 0., 0.],\n",
       "       [0., 1., 0., 0., 0.],\n",
       "       [0., 1., 0., 0., 0.],\n",
       "       [0., 1., 0., 0., 0.]], dtype=float32)"
      ]
     },
     "execution_count": 108,
     "metadata": {},
     "output_type": "execute_result"
    }
   ],
   "source": [
    "#label encode to convert labels to numerical values\n",
    "le = LabelEncoder()\n",
    "le.fit(train_labels)\n",
    "train_lab_enc = le.transform(train_labels)   \n",
    "validation_lab_enc = le.transform(validation_labels)\n",
    "#one-hot encoding on the labels\n",
    "train_lab_enc = to_categorical(train_lab_enc)   \n",
    "validation_lab_enc = to_categorical(validation_lab_enc) \n",
    "train_lab_enc"
   ]
  },
  {
   "cell_type": "markdown",
   "metadata": {},
   "source": [
    "#### Creation of CNN using Transfer Learning "
   ]
  },
  {
   "cell_type": "markdown",
   "metadata": {},
   "source": [
    "Load VGG Model without top layer and freezing the layers."
   ]
  },
  {
   "cell_type": "code",
   "execution_count": 8,
   "metadata": {
    "scrolled": true
   },
   "outputs": [
    {
     "name": "stdout",
     "output_type": "stream",
     "text": [
      "Model: \"model_1\"\n",
      "_________________________________________________________________\n",
      "Layer (type)                 Output Shape              Param #   \n",
      "=================================================================\n",
      "input_1 (InputLayer)         (None, 150, 150, 3)       0         \n",
      "_________________________________________________________________\n",
      "block1_conv1 (Conv2D)        (None, 150, 150, 64)      1792      \n",
      "_________________________________________________________________\n",
      "block1_conv2 (Conv2D)        (None, 150, 150, 64)      36928     \n",
      "_________________________________________________________________\n",
      "block1_pool (MaxPooling2D)   (None, 75, 75, 64)        0         \n",
      "_________________________________________________________________\n",
      "block2_conv1 (Conv2D)        (None, 75, 75, 128)       73856     \n",
      "_________________________________________________________________\n",
      "block2_conv2 (Conv2D)        (None, 75, 75, 128)       147584    \n",
      "_________________________________________________________________\n",
      "block2_pool (MaxPooling2D)   (None, 37, 37, 128)       0         \n",
      "_________________________________________________________________\n",
      "block3_conv1 (Conv2D)        (None, 37, 37, 256)       295168    \n",
      "_________________________________________________________________\n",
      "block3_conv2 (Conv2D)        (None, 37, 37, 256)       590080    \n",
      "_________________________________________________________________\n",
      "block3_conv3 (Conv2D)        (None, 37, 37, 256)       590080    \n",
      "_________________________________________________________________\n",
      "block3_pool (MaxPooling2D)   (None, 18, 18, 256)       0         \n",
      "_________________________________________________________________\n",
      "block4_conv1 (Conv2D)        (None, 18, 18, 512)       1180160   \n",
      "_________________________________________________________________\n",
      "block4_conv2 (Conv2D)        (None, 18, 18, 512)       2359808   \n",
      "_________________________________________________________________\n",
      "block4_conv3 (Conv2D)        (None, 18, 18, 512)       2359808   \n",
      "_________________________________________________________________\n",
      "block4_pool (MaxPooling2D)   (None, 9, 9, 512)         0         \n",
      "_________________________________________________________________\n",
      "block5_conv1 (Conv2D)        (None, 9, 9, 512)         2359808   \n",
      "_________________________________________________________________\n",
      "block5_conv2 (Conv2D)        (None, 9, 9, 512)         2359808   \n",
      "_________________________________________________________________\n",
      "block5_conv3 (Conv2D)        (None, 9, 9, 512)         2359808   \n",
      "_________________________________________________________________\n",
      "block5_pool (MaxPooling2D)   (None, 4, 4, 512)         0         \n",
      "_________________________________________________________________\n",
      "flatten_1 (Flatten)          (None, 8192)              0         \n",
      "=================================================================\n",
      "Total params: 14,714,688\n",
      "Trainable params: 0\n",
      "Non-trainable params: 14,714,688\n",
      "_________________________________________________________________\n"
     ]
    }
   ],
   "source": [
    "vgg = vgg16.VGG16(weights=\"imagenet\", include_top=False, input_shape=IMG_DIM)\n",
    "\n",
    "vggm = Model(vgg.input, Flatten()(vgg.layers[-1].output))\n",
    "vggm.trainable = False\n",
    "\n",
    "for layer in vggm.layers:        #freeze base layers\n",
    "     layer.trainable = False\n",
    "        \n",
    "vggm.summary()   #summary of the model layers"
   ]
  },
  {
   "cell_type": "markdown",
   "metadata": {},
   "source": [
    "Build Classification Layers."
   ]
  },
  {
   "cell_type": "code",
   "execution_count": 9,
   "metadata": {},
   "outputs": [],
   "source": [
    "model = Sequential(vggm.layers)  #add vgg16 layers as base layers\n",
    "model.add(Dense(216, activation=\"relu\"))  #creating additional layers in addition to vgg model layers\n",
    "model.add(Dropout(0.2))                  #adding dropout to prevent overfitting\n",
    "model.add(Dense(96, activation=\"relu\"))\n",
    "model.add(Dropout(0.2))\n",
    "model.add(Dense(5, activation=\"softmax\"))"
   ]
  },
  {
   "cell_type": "markdown",
   "metadata": {},
   "source": [
    "Compile the model."
   ]
  },
  {
   "cell_type": "code",
   "execution_count": 10,
   "metadata": {
    "scrolled": true
   },
   "outputs": [
    {
     "name": "stdout",
     "output_type": "stream",
     "text": [
      "Model: \"sequential_1\"\n",
      "_________________________________________________________________\n",
      "Layer (type)                 Output Shape              Param #   \n",
      "=================================================================\n",
      "block1_conv1 (Conv2D)        (None, 150, 150, 64)      1792      \n",
      "_________________________________________________________________\n",
      "block1_conv2 (Conv2D)        (None, 150, 150, 64)      36928     \n",
      "_________________________________________________________________\n",
      "block1_pool (MaxPooling2D)   (None, 75, 75, 64)        0         \n",
      "_________________________________________________________________\n",
      "block2_conv1 (Conv2D)        (None, 75, 75, 128)       73856     \n",
      "_________________________________________________________________\n",
      "block2_conv2 (Conv2D)        (None, 75, 75, 128)       147584    \n",
      "_________________________________________________________________\n",
      "block2_pool (MaxPooling2D)   (None, 37, 37, 128)       0         \n",
      "_________________________________________________________________\n",
      "block3_conv1 (Conv2D)        (None, 37, 37, 256)       295168    \n",
      "_________________________________________________________________\n",
      "block3_conv2 (Conv2D)        (None, 37, 37, 256)       590080    \n",
      "_________________________________________________________________\n",
      "block3_conv3 (Conv2D)        (None, 37, 37, 256)       590080    \n",
      "_________________________________________________________________\n",
      "block3_pool (MaxPooling2D)   (None, 18, 18, 256)       0         \n",
      "_________________________________________________________________\n",
      "block4_conv1 (Conv2D)        (None, 18, 18, 512)       1180160   \n",
      "_________________________________________________________________\n",
      "block4_conv2 (Conv2D)        (None, 18, 18, 512)       2359808   \n",
      "_________________________________________________________________\n",
      "block4_conv3 (Conv2D)        (None, 18, 18, 512)       2359808   \n",
      "_________________________________________________________________\n",
      "block4_pool (MaxPooling2D)   (None, 9, 9, 512)         0         \n",
      "_________________________________________________________________\n",
      "block5_conv1 (Conv2D)        (None, 9, 9, 512)         2359808   \n",
      "_________________________________________________________________\n",
      "block5_conv2 (Conv2D)        (None, 9, 9, 512)         2359808   \n",
      "_________________________________________________________________\n",
      "block5_conv3 (Conv2D)        (None, 9, 9, 512)         2359808   \n",
      "_________________________________________________________________\n",
      "block5_pool (MaxPooling2D)   (None, 4, 4, 512)         0         \n",
      "_________________________________________________________________\n",
      "flatten_1 (Flatten)          (None, 8192)              0         \n",
      "_________________________________________________________________\n",
      "dense_1 (Dense)              (None, 216)               1769688   \n",
      "_________________________________________________________________\n",
      "dropout_1 (Dropout)          (None, 216)               0         \n",
      "_________________________________________________________________\n",
      "dense_2 (Dense)              (None, 96)                20832     \n",
      "_________________________________________________________________\n",
      "dropout_2 (Dropout)          (None, 96)                0         \n",
      "_________________________________________________________________\n",
      "dense_3 (Dense)              (None, 5)                 485       \n",
      "=================================================================\n",
      "Total params: 16,505,693\n",
      "Trainable params: 1,791,005\n",
      "Non-trainable params: 14,714,688\n",
      "_________________________________________________________________\n"
     ]
    }
   ],
   "source": [
    "model.compile(loss=\"categorical_crossentropy\", optimizer=\"rmsprop\", metrics=[\"accuracy\"]) #compile model\n",
    "\n",
    "model.summary()"
   ]
  },
  {
   "cell_type": "markdown",
   "metadata": {},
   "source": [
    "Peform training on the dataset by using transfer learning."
   ]
  },
  {
   "cell_type": "code",
   "execution_count": 11,
   "metadata": {
    "scrolled": true
   },
   "outputs": [
    {
     "name": "stdout",
     "output_type": "stream",
     "text": [
      "Train on 150 samples, validate on 50 samples\n",
      "Epoch 1/50\n",
      "150/150 [==============================] - 23s 152ms/step - loss: 2.5019 - accuracy: 0.3733 - val_loss: 1.1297 - val_accuracy: 0.5800\n",
      "Epoch 2/50\n",
      "150/150 [==============================] - 5s 35ms/step - loss: 1.1007 - accuracy: 0.5400 - val_loss: 1.7569 - val_accuracy: 0.3400\n",
      "Epoch 3/50\n",
      "150/150 [==============================] - 5s 31ms/step - loss: 0.8650 - accuracy: 0.6867 - val_loss: 0.8697 - val_accuracy: 0.7200\n",
      "Epoch 4/50\n",
      "150/150 [==============================] - 5s 31ms/step - loss: 0.4773 - accuracy: 0.8200 - val_loss: 2.2457 - val_accuracy: 0.4400\n",
      "Epoch 5/50\n",
      "150/150 [==============================] - 5s 31ms/step - loss: 0.5103 - accuracy: 0.8400 - val_loss: 0.7973 - val_accuracy: 0.7400\n",
      "Epoch 6/50\n",
      "150/150 [==============================] - 5s 31ms/step - loss: 0.2546 - accuracy: 0.9000 - val_loss: 0.7977 - val_accuracy: 0.7600\n",
      "Epoch 7/50\n",
      "150/150 [==============================] - 5s 31ms/step - loss: 0.1952 - accuracy: 0.9133 - val_loss: 1.5320 - val_accuracy: 0.5600\n",
      "Epoch 8/50\n",
      "150/150 [==============================] - 5s 32ms/step - loss: 0.1963 - accuracy: 0.9467 - val_loss: 0.8148 - val_accuracy: 0.7000\n",
      "Epoch 9/50\n",
      "150/150 [==============================] - 5s 31ms/step - loss: 0.1376 - accuracy: 0.9400 - val_loss: 0.6929 - val_accuracy: 0.7800\n",
      "Epoch 10/50\n",
      "150/150 [==============================] - 5s 31ms/step - loss: 0.1006 - accuracy: 0.9533 - val_loss: 0.8632 - val_accuracy: 0.7000\n",
      "Epoch 11/50\n",
      "150/150 [==============================] - 5s 31ms/step - loss: 0.1429 - accuracy: 0.9400 - val_loss: 1.3163 - val_accuracy: 0.6600\n",
      "Epoch 12/50\n",
      "150/150 [==============================] - 5s 31ms/step - loss: 0.1031 - accuracy: 0.9667 - val_loss: 2.1560 - val_accuracy: 0.6000\n",
      "Epoch 13/50\n",
      "150/150 [==============================] - 5s 31ms/step - loss: 0.0974 - accuracy: 0.9800 - val_loss: 1.4670 - val_accuracy: 0.6200\n",
      "Epoch 14/50\n",
      "150/150 [==============================] - 5s 31ms/step - loss: 0.0634 - accuracy: 0.9733 - val_loss: 1.5324 - val_accuracy: 0.6400\n",
      "Epoch 15/50\n",
      "150/150 [==============================] - 5s 31ms/step - loss: 0.1333 - accuracy: 0.9600 - val_loss: 1.1160 - val_accuracy: 0.7000\n",
      "Epoch 16/50\n",
      "150/150 [==============================] - 5s 32ms/step - loss: 0.0640 - accuracy: 0.9933 - val_loss: 0.9727 - val_accuracy: 0.7000\n",
      "Epoch 17/50\n",
      "150/150 [==============================] - 5s 32ms/step - loss: 0.1183 - accuracy: 0.9600 - val_loss: 1.3764 - val_accuracy: 0.6800\n",
      "Epoch 18/50\n",
      "150/150 [==============================] - 5s 32ms/step - loss: 0.0657 - accuracy: 0.9800 - val_loss: 1.3816 - val_accuracy: 0.6800\n",
      "Epoch 19/50\n",
      "150/150 [==============================] - 5s 31ms/step - loss: 0.0563 - accuracy: 0.9867 - val_loss: 1.0886 - val_accuracy: 0.7600\n",
      "Epoch 20/50\n",
      "150/150 [==============================] - 5s 31ms/step - loss: 0.0220 - accuracy: 0.9933 - val_loss: 1.4248 - val_accuracy: 0.6800\n",
      "Epoch 21/50\n",
      "150/150 [==============================] - 5s 32ms/step - loss: 0.0546 - accuracy: 0.9800 - val_loss: 1.6206 - val_accuracy: 0.6800\n",
      "Epoch 22/50\n",
      "150/150 [==============================] - 5s 31ms/step - loss: 0.0502 - accuracy: 0.9800 - val_loss: 2.0197 - val_accuracy: 0.6800\n",
      "Epoch 23/50\n",
      "150/150 [==============================] - 5s 31ms/step - loss: 0.1295 - accuracy: 0.9667 - val_loss: 1.8597 - val_accuracy: 0.6600\n",
      "Epoch 24/50\n",
      "150/150 [==============================] - 5s 32ms/step - loss: 0.0457 - accuracy: 0.9733 - val_loss: 2.0891 - val_accuracy: 0.6600\n",
      "Epoch 25/50\n",
      "150/150 [==============================] - 5s 31ms/step - loss: 0.0932 - accuracy: 0.9867 - val_loss: 1.9973 - val_accuracy: 0.7000\n",
      "Epoch 26/50\n",
      "150/150 [==============================] - 5s 32ms/step - loss: 0.0459 - accuracy: 0.9933 - val_loss: 1.4344 - val_accuracy: 0.7000\n",
      "Epoch 27/50\n",
      "150/150 [==============================] - 5s 32ms/step - loss: 0.0298 - accuracy: 0.9933 - val_loss: 2.2911 - val_accuracy: 0.6400\n",
      "Epoch 28/50\n",
      "150/150 [==============================] - 5s 34ms/step - loss: 0.0218 - accuracy: 0.9933 - val_loss: 1.7238 - val_accuracy: 0.7200\n",
      "Epoch 29/50\n",
      "150/150 [==============================] - 5s 31ms/step - loss: 0.0447 - accuracy: 0.9933 - val_loss: 2.1109 - val_accuracy: 0.6600\n",
      "Epoch 30/50\n",
      "150/150 [==============================] - 5s 31ms/step - loss: 0.0554 - accuracy: 0.9867 - val_loss: 2.1632 - val_accuracy: 0.7200\n",
      "Epoch 31/50\n",
      "150/150 [==============================] - 5s 32ms/step - loss: 0.0903 - accuracy: 0.9600 - val_loss: 2.6702 - val_accuracy: 0.6800\n",
      "Epoch 32/50\n",
      "150/150 [==============================] - 5s 31ms/step - loss: 0.0258 - accuracy: 0.9800 - val_loss: 1.9004 - val_accuracy: 0.7200\n",
      "Epoch 33/50\n",
      "150/150 [==============================] - 5s 32ms/step - loss: 0.1377 - accuracy: 0.9800 - val_loss: 2.7856 - val_accuracy: 0.6600\n",
      "Epoch 34/50\n",
      "150/150 [==============================] - 6s 37ms/step - loss: 0.0890 - accuracy: 0.9867 - val_loss: 2.5279 - val_accuracy: 0.6600\n",
      "Epoch 35/50\n",
      "150/150 [==============================] - 5s 33ms/step - loss: 0.0991 - accuracy: 0.9800 - val_loss: 1.7254 - val_accuracy: 0.7000\n",
      "Epoch 36/50\n",
      "150/150 [==============================] - 5s 33ms/step - loss: 0.1048 - accuracy: 0.9667 - val_loss: 2.0734 - val_accuracy: 0.6600\n",
      "Epoch 37/50\n",
      "150/150 [==============================] - 5s 33ms/step - loss: 0.0906 - accuracy: 0.9867 - val_loss: 1.6638 - val_accuracy: 0.7200\n",
      "Epoch 38/50\n",
      "150/150 [==============================] - 5s 31ms/step - loss: 0.0669 - accuracy: 0.9867 - val_loss: 2.2280 - val_accuracy: 0.7200\n",
      "Epoch 39/50\n",
      "150/150 [==============================] - 5s 31ms/step - loss: 0.0452 - accuracy: 0.9867 - val_loss: 2.0267 - val_accuracy: 0.6800\n",
      "Epoch 40/50\n",
      "150/150 [==============================] - 5s 31ms/step - loss: 0.0869 - accuracy: 0.9867 - val_loss: 1.6517 - val_accuracy: 0.6800\n",
      "Epoch 41/50\n",
      "150/150 [==============================] - 5s 31ms/step - loss: 0.0129 - accuracy: 0.9933 - val_loss: 1.4695 - val_accuracy: 0.7200\n",
      "Epoch 42/50\n",
      "150/150 [==============================] - 5s 31ms/step - loss: 0.0526 - accuracy: 0.9933 - val_loss: 2.2226 - val_accuracy: 0.6600\n",
      "Epoch 43/50\n",
      "150/150 [==============================] - 5s 31ms/step - loss: 0.0471 - accuracy: 0.9933 - val_loss: 1.9043 - val_accuracy: 0.6800\n",
      "Epoch 44/50\n",
      "150/150 [==============================] - 5s 31ms/step - loss: 0.0063 - accuracy: 1.0000 - val_loss: 2.1302 - val_accuracy: 0.6400\n",
      "Epoch 45/50\n",
      "150/150 [==============================] - 5s 32ms/step - loss: 0.0947 - accuracy: 0.9733 - val_loss: 2.0337 - val_accuracy: 0.7200\n",
      "Epoch 46/50\n",
      "150/150 [==============================] - 5s 31ms/step - loss: 0.0747 - accuracy: 0.9867 - val_loss: 1.9451 - val_accuracy: 0.7200\n",
      "Epoch 47/50\n",
      "150/150 [==============================] - 5s 31ms/step - loss: 0.0559 - accuracy: 0.9867 - val_loss: 1.6762 - val_accuracy: 0.7200\n",
      "Epoch 48/50\n",
      "150/150 [==============================] - 5s 31ms/step - loss: 0.0253 - accuracy: 0.9867 - val_loss: 1.8647 - val_accuracy: 0.7400\n",
      "Epoch 49/50\n",
      "150/150 [==============================] - 5s 31ms/step - loss: 0.0340 - accuracy: 0.9933 - val_loss: 1.4839 - val_accuracy: 0.7000\n",
      "Epoch 50/50\n",
      "150/150 [==============================] - 5s 31ms/step - loss: 0.0070 - accuracy: 0.9933 - val_loss: 1.6100 - val_accuracy: 0.7000\n"
     ]
    }
   ],
   "source": [
    "his = model.fit(train_imgs_sca, train_lab_enc, epochs=50, batch_size=10, shuffle = True, \n",
    "                validation_data = (validation_imgs_sca, validation_lab_enc))  #fitting the model\n"
   ]
  },
  {
   "cell_type": "markdown",
   "metadata": {},
   "source": [
    "Plot the Loss and Accuracy graph."
   ]
  },
  {
   "cell_type": "code",
   "execution_count": 12,
   "metadata": {
    "scrolled": true
   },
   "outputs": [
    {
     "data": {
      "image/png": "[encoded data removed]",
      "text/plain": [
       "<Figure size 864x288 with 2 Axes>"
      ]
     },
     "metadata": {
      "needs_background": "light"
     },
     "output_type": "display_data"
    }
   ],
   "source": [
    "fig, (ax1, ax2) = plt.subplots(1, 2, figsize=(12, 4))\n",
    "fig.suptitle(\"Transfer Learning Performance\", fontweight=\"bold\", fontsize=12)\n",
    "xrange = list(range(1,51))\n",
    "ax1.plot(xrange, his.history[\"accuracy\"], label=\"Train Accuracy\", color=\"r\")   #plot training accuracy \n",
    "ax1.plot(xrange, his.history[\"val_accuracy\"], label=\"Validation Accuracy\", color=\"b\") #plot validation accuracy\n",
    "ax1.set_xticks(np.arange(0, 51, 5))\n",
    "ax1.set_ylabel(\"Accuracy Value\")   #set y label\n",
    "ax1.set_xlabel(\"Epoch\")           #set x label\n",
    "ax1.set_title(\"Accuracy\")     \n",
    "l1 = ax1.legend(loc=\"best\")   #set legend\n",
    "\n",
    "ax2.plot(xrange, his.history[\"loss\"], label=\"Train Loss\",color=\"r\")   #plot loss graph\n",
    "ax2.plot(xrange, his.history[\"val_loss\"], label=\"Validation Loss\", color=\"b\")\n",
    "ax2.set_xticks(np.arange(0, 51, 5))\n",
    "ax2.set_ylabel(\"Loss Value\")\n",
    "ax2.set_xlabel(\"Epoch\")\n",
    "ax2.set_title(\"Loss\")\n",
    "l2 = ax2.legend(loc=\"best\")"
   ]
  },
  {
   "cell_type": "markdown",
   "metadata": {},
   "source": [
    "We can see that the above model overfits. Let's use image augmentation on the transfer learning model to improve the issue."
   ]
  },
  {
   "cell_type": "code",
   "execution_count": 13,
   "metadata": {},
   "outputs": [],
   "source": [
    "#augmentation configuration used for training\n",
    "tr_datagen = ImageDataGenerator(rotation_range=40, rescale=1./255, zoom_range=0.2, width_shift_range=0.2, \n",
    "                                height_shift_range=0.2, shear_range=0.2, horizontal_flip=True, fill_mode='nearest')\n",
    "\n",
    "v_datagen = ImageDataGenerator(rescale=1./255)  #normalization\n",
    "\n",
    "tr_gen = tr_datagen.flow(train_images, train_lab_enc, batch_size=10)\n",
    "v_gen = v_datagen.flow(validation_images, validation_lab_enc, batch_size=10)"
   ]
  },
  {
   "cell_type": "markdown",
   "metadata": {},
   "source": [
    "Build classification layers and compile the model."
   ]
  },
  {
   "cell_type": "code",
   "execution_count": 10,
   "metadata": {},
   "outputs": [
    {
     "name": "stdout",
     "output_type": "stream",
     "text": [
      "Model: \"sequential_1\"\n",
      "_________________________________________________________________\n",
      "Layer (type)                 Output Shape              Param #   \n",
      "=================================================================\n",
      "model_1 (Model)              (None, 8192)              14714688  \n",
      "_________________________________________________________________\n",
      "dense_1 (Dense)              (None, 216)               1769688   \n",
      "_________________________________________________________________\n",
      "dropout_1 (Dropout)          (None, 216)               0         \n",
      "_________________________________________________________________\n",
      "dense_2 (Dense)              (None, 96)                20832     \n",
      "_________________________________________________________________\n",
      "dropout_2 (Dropout)          (None, 96)                0         \n",
      "_________________________________________________________________\n",
      "dense_3 (Dense)              (None, 5)                 485       \n",
      "=================================================================\n",
      "Total params: 16,505,693\n",
      "Trainable params: 1,791,005\n",
      "Non-trainable params: 14,714,688\n",
      "_________________________________________________________________\n"
     ]
    }
   ],
   "source": [
    "#Build classification layers \n",
    "modft = Sequential()\n",
    "modft.add(vggm)   #add vgg16 model as base\n",
    "modft.add(Dense(216, activation=\"relu\"))\n",
    "modft.add(Dropout(0.2))\n",
    "modft.add(Dense(96, activation=\"relu\"))\n",
    "modft.add(Dropout(0.2))\n",
    "modft.add(Dense(5, activation=\"softmax\"))\n",
    "\n",
    "#Compile the model\n",
    "modft.compile(loss=\"categorical_crossentropy\", optimizer=\"rmsprop\", metrics=[\"accuracy\"])\n",
    "modft.summary()"
   ]
  },
  {
   "cell_type": "markdown",
   "metadata": {},
   "source": [
    "Perform training on the dataset."
   ]
  },
  {
   "cell_type": "code",
   "execution_count": 11,
   "metadata": {
    "scrolled": true
   },
   "outputs": [
    {
     "name": "stdout",
     "output_type": "stream",
     "text": [
      "Epoch 1/50\n",
      "15/15 [==============================] - 22s 1s/step - loss: 2.8558 - accuracy: 0.1933 - val_loss: 1.6493 - val_accuracy: 0.2000\n",
      "Epoch 2/50\n",
      "15/15 [==============================] - 5s 310ms/step - loss: 1.5088 - accuracy: 0.3800 - val_loss: 1.1271 - val_accuracy: 0.4600\n",
      "Epoch 3/50\n",
      "15/15 [==============================] - 5s 303ms/step - loss: 1.4775 - accuracy: 0.4267 - val_loss: 0.8426 - val_accuracy: 0.5400\n",
      "Epoch 4/50\n",
      "15/15 [==============================] - 5s 304ms/step - loss: 1.3589 - accuracy: 0.4867 - val_loss: 0.9101 - val_accuracy: 0.6400\n",
      "Epoch 5/50\n",
      "15/15 [==============================] - 5s 311ms/step - loss: 1.1372 - accuracy: 0.5467 - val_loss: 1.2799 - val_accuracy: 0.6000\n",
      "Epoch 6/50\n",
      "15/15 [==============================] - 5s 315ms/step - loss: 1.1484 - accuracy: 0.5800 - val_loss: 0.9239 - val_accuracy: 0.7600\n",
      "Epoch 7/50\n",
      "15/15 [==============================] - 5s 307ms/step - loss: 0.8895 - accuracy: 0.6667 - val_loss: 1.0150 - val_accuracy: 0.6000\n",
      "Epoch 8/50\n",
      "15/15 [==============================] - 5s 305ms/step - loss: 1.0271 - accuracy: 0.6133 - val_loss: 0.5385 - val_accuracy: 0.6600\n",
      "Epoch 9/50\n",
      "15/15 [==============================] - 5s 310ms/step - loss: 0.8549 - accuracy: 0.6667 - val_loss: 0.6507 - val_accuracy: 0.7200\n",
      "Epoch 10/50\n",
      "15/15 [==============================] - 5s 334ms/step - loss: 0.8175 - accuracy: 0.6400 - val_loss: 0.4871 - val_accuracy: 0.7800\n",
      "Epoch 11/50\n",
      "15/15 [==============================] - 5s 312ms/step - loss: 0.7902 - accuracy: 0.6933 - val_loss: 0.4281 - val_accuracy: 0.8000\n",
      "Epoch 12/50\n",
      "15/15 [==============================] - 5s 312ms/step - loss: 0.6714 - accuracy: 0.7333 - val_loss: 0.8484 - val_accuracy: 0.7200\n",
      "Epoch 13/50\n",
      "15/15 [==============================] - 5s 303ms/step - loss: 0.6417 - accuracy: 0.7600 - val_loss: 0.7795 - val_accuracy: 0.7600\n",
      "Epoch 14/50\n",
      "15/15 [==============================] - 5s 325ms/step - loss: 0.4671 - accuracy: 0.8133 - val_loss: 0.7307 - val_accuracy: 0.7800\n",
      "Epoch 15/50\n",
      "15/15 [==============================] - 5s 314ms/step - loss: 0.5675 - accuracy: 0.7800 - val_loss: 0.6110 - val_accuracy: 0.7800\n",
      "Epoch 16/50\n",
      "15/15 [==============================] - 5s 316ms/step - loss: 0.5369 - accuracy: 0.8067 - val_loss: 0.2863 - val_accuracy: 0.8600\n",
      "Epoch 17/50\n",
      "15/15 [==============================] - 5s 305ms/step - loss: 0.4349 - accuracy: 0.8267 - val_loss: 0.5593 - val_accuracy: 0.8400\n",
      "Epoch 18/50\n",
      "15/15 [==============================] - 5s 314ms/step - loss: 0.6069 - accuracy: 0.7933 - val_loss: 0.3191 - val_accuracy: 0.8400\n",
      "Epoch 19/50\n",
      "15/15 [==============================] - 5s 306ms/step - loss: 0.4161 - accuracy: 0.8333 - val_loss: 0.4715 - val_accuracy: 0.7200\n",
      "Epoch 20/50\n",
      "15/15 [==============================] - 5s 305ms/step - loss: 0.5370 - accuracy: 0.7867 - val_loss: 0.6891 - val_accuracy: 0.7800\n",
      "Epoch 21/50\n",
      "15/15 [==============================] - 5s 307ms/step - loss: 0.4588 - accuracy: 0.8267 - val_loss: 0.5448 - val_accuracy: 0.7400\n",
      "Epoch 22/50\n",
      "15/15 [==============================] - 5s 305ms/step - loss: 0.3759 - accuracy: 0.8733 - val_loss: 0.1011 - val_accuracy: 0.8000\n",
      "Epoch 23/50\n",
      "15/15 [==============================] - 5s 323ms/step - loss: 0.5495 - accuracy: 0.8200 - val_loss: 0.0217 - val_accuracy: 0.8200\n",
      "Epoch 24/50\n",
      "15/15 [==============================] - 5s 355ms/step - loss: 0.3554 - accuracy: 0.8733 - val_loss: 0.5530 - val_accuracy: 0.8200\n",
      "Epoch 25/50\n",
      "15/15 [==============================] - 5s 312ms/step - loss: 0.5518 - accuracy: 0.8267 - val_loss: 0.5246 - val_accuracy: 0.8800\n",
      "Epoch 26/50\n",
      "15/15 [==============================] - 5s 317ms/step - loss: 0.2973 - accuracy: 0.9000 - val_loss: 0.1744 - val_accuracy: 0.8400\n",
      "Epoch 27/50\n",
      "15/15 [==============================] - 5s 330ms/step - loss: 0.3585 - accuracy: 0.8733 - val_loss: 0.4008 - val_accuracy: 0.8200\n",
      "Epoch 28/50\n",
      "15/15 [==============================] - 5s 319ms/step - loss: 0.3723 - accuracy: 0.8733 - val_loss: 1.2728 - val_accuracy: 0.6800\n",
      "Epoch 29/50\n",
      "15/15 [==============================] - 5s 316ms/step - loss: 0.3404 - accuracy: 0.8800 - val_loss: 0.8426 - val_accuracy: 0.7000\n",
      "Epoch 30/50\n",
      "15/15 [==============================] - 5s 306ms/step - loss: 0.4668 - accuracy: 0.8800 - val_loss: 0.3158 - val_accuracy: 0.8400\n",
      "Epoch 31/50\n",
      "15/15 [==============================] - 5s 309ms/step - loss: 0.4845 - accuracy: 0.8267 - val_loss: 0.2535 - val_accuracy: 0.8200\n",
      "Epoch 32/50\n",
      "15/15 [==============================] - 5s 312ms/step - loss: 0.2770 - accuracy: 0.9000 - val_loss: 0.3507 - val_accuracy: 0.8600\n",
      "Epoch 33/50\n",
      "15/15 [==============================] - 5s 316ms/step - loss: 0.3051 - accuracy: 0.8533 - val_loss: 0.2637 - val_accuracy: 0.8200\n",
      "Epoch 34/50\n",
      "15/15 [==============================] - 5s 313ms/step - loss: 0.2083 - accuracy: 0.9000 - val_loss: 0.3781 - val_accuracy: 0.8000\n",
      "Epoch 35/50\n",
      "15/15 [==============================] - 5s 308ms/step - loss: 0.1796 - accuracy: 0.9533 - val_loss: 0.2728 - val_accuracy: 0.8400\n",
      "Epoch 36/50\n",
      "15/15 [==============================] - 5s 306ms/step - loss: 0.3266 - accuracy: 0.8667 - val_loss: 0.7787 - val_accuracy: 0.8800\n",
      "Epoch 37/50\n",
      "15/15 [==============================] - 5s 315ms/step - loss: 0.2886 - accuracy: 0.9000 - val_loss: 1.1530 - val_accuracy: 0.7800\n",
      "Epoch 38/50\n",
      "15/15 [==============================] - 5s 308ms/step - loss: 0.2462 - accuracy: 0.9067 - val_loss: 0.4072 - val_accuracy: 0.8600\n",
      "Epoch 39/50\n",
      "15/15 [==============================] - 5s 306ms/step - loss: 0.3079 - accuracy: 0.8867 - val_loss: 0.4218 - val_accuracy: 0.8400\n",
      "Epoch 40/50\n",
      "15/15 [==============================] - 5s 306ms/step - loss: 0.2409 - accuracy: 0.9200 - val_loss: 0.3103 - val_accuracy: 0.8000\n",
      "Epoch 41/50\n",
      "15/15 [==============================] - 5s 308ms/step - loss: 0.2568 - accuracy: 0.9000 - val_loss: 0.6995 - val_accuracy: 0.8200\n",
      "Epoch 42/50\n",
      "15/15 [==============================] - 5s 305ms/step - loss: 0.3081 - accuracy: 0.8800 - val_loss: 0.1931 - val_accuracy: 0.9000\n",
      "Epoch 43/50\n",
      "15/15 [==============================] - 5s 305ms/step - loss: 0.3847 - accuracy: 0.8933 - val_loss: 0.9027 - val_accuracy: 0.8600\n",
      "Epoch 44/50\n",
      "15/15 [==============================] - 5s 309ms/step - loss: 0.2673 - accuracy: 0.9000 - val_loss: 0.0955 - val_accuracy: 0.8800\n",
      "Epoch 45/50\n",
      "15/15 [==============================] - 5s 308ms/step - loss: 0.2521 - accuracy: 0.9133 - val_loss: 0.3325 - val_accuracy: 0.8000\n",
      "Epoch 46/50\n",
      "15/15 [==============================] - 5s 327ms/step - loss: 0.1630 - accuracy: 0.9467 - val_loss: 0.1089 - val_accuracy: 0.8200\n",
      "Epoch 47/50\n",
      "15/15 [==============================] - 5s 313ms/step - loss: 0.3270 - accuracy: 0.8867 - val_loss: 0.3231 - val_accuracy: 0.8600\n",
      "Epoch 48/50\n",
      "15/15 [==============================] - 5s 305ms/step - loss: 0.1732 - accuracy: 0.9467 - val_loss: 0.3293 - val_accuracy: 0.8200\n",
      "Epoch 49/50\n",
      "15/15 [==============================] - 5s 313ms/step - loss: 0.2385 - accuracy: 0.9267 - val_loss: 1.2041 - val_accuracy: 0.8000\n",
      "Epoch 50/50\n",
      "15/15 [==============================] - 5s 321ms/step - loss: 0.2434 - accuracy: 0.8867 - val_loss: 0.2634 - val_accuracy: 0.8000\n"
     ]
    }
   ],
   "source": [
    "hisa = modft.fit_generator(tr_gen, steps_per_epoch=15, epochs=50, validation_data=v_gen, validation_steps=5)\n"
   ]
  },
  {
   "cell_type": "markdown",
   "metadata": {},
   "source": [
    "Plot the Loss and Accuracy graph."
   ]
  },
  {
   "cell_type": "code",
   "execution_count": 25,
   "metadata": {},
   "outputs": [
    {
     "data": {
      "image/png": "[encoded data removed]",
      "text/plain": [
       "<Figure size 864x288 with 2 Axes>"
      ]
     },
     "metadata": {
      "needs_background": "light"
     },
     "output_type": "display_data"
    }
   ],
   "source": [
    "fig, (ax1, ax2) = plt.subplots(1, 2, figsize=(12, 4))\n",
    "fig.suptitle(\"Transfer learning with Image Augmentation Performance\", fontweight=\"bold\", fontsize=12)\n",
    "xrange = list(range(1,51))\n",
    "ax1.plot(xrange, hisa.history[\"accuracy\"], label=\"Train Accuracy\", color=\"g\")\n",
    "ax1.plot(xrange, hisa.history[\"val_accuracy\"], label=\"Validation Accuracy\", color=\"m\")\n",
    "ax1.set_xticks(np.arange(0, 51, 5))\n",
    "ax1.set_ylabel(\"Accuracy Value\")\n",
    "ax1.set_xlabel(\"Epoch\")\n",
    "ax1.set_title('Accuracy')\n",
    "l1 = ax1.legend(loc=\"best\")\n",
    "\n",
    "ax2.plot(xrange, hisa.history[\"loss\"], label=\"Train Loss\",color=\"g\")\n",
    "ax2.plot(xrange, hisa.history[\"val_loss\"], label=\"Validation Loss\", color=\"m\")\n",
    "ax2.set_xticks(np.arange(0, 51, 5))\n",
    "ax2.set_ylabel(\"Loss Value\")\n",
    "ax2.set_xlabel(\"Epoch\")\n",
    "ax2.set_title(\"Loss\")\n",
    "l2 = ax2.legend(loc=\"best\")\n"
   ]
  },
  {
   "cell_type": "markdown",
   "metadata": {},
   "source": [
    "Let's save the model."
   ]
  },
  {
   "cell_type": "code",
   "execution_count": 111,
   "metadata": {},
   "outputs": [],
   "source": [
    "# modft.save(\"imgaugtest.h5\")"
   ]
  },
  {
   "cell_type": "markdown",
   "metadata": {},
   "source": [
    "We can see that the model with augmentation had an improvement in the validation accuracy and better fitting.\n",
    "Next, we will proceed with finetuning the pre-trained network layers."
   ]
  },
  {
   "cell_type": "markdown",
   "metadata": {},
   "source": [
    "#### Fine Tuning of CNN"
   ]
  },
  {
   "cell_type": "markdown",
   "metadata": {},
   "source": [
    "We will fine tune the model by unfreezing the last unconvolutional block."
   ]
  },
  {
   "cell_type": "code",
   "execution_count": 8,
   "metadata": {},
   "outputs": [],
   "source": [
    "vgg = vgg16.VGG16(weights=\"imagenet\", include_top=False, input_shape=(IMG_DIM))\n",
    "vggf = Model(vgg.input, Flatten()(vgg.layers[-1].output))  #flatten output layer\n",
    "\n",
    "vggf.trainable = True\n",
    "set_trainable = False\n",
    "\n",
    "for layer in vggf.layers:\n",
    "    if layer.name in [\"block5_conv1\"]:   #unfreeze block5_conv1 layers onwards\n",
    "        set_trainable = True             \n",
    "    if set_trainable:\n",
    "        layer.trainable = True\n",
    "    else:\n",
    "        layer.trainable = False"
   ]
  },
  {
   "cell_type": "code",
   "execution_count": 9,
   "metadata": {},
   "outputs": [
    {
     "name": "stdout",
     "output_type": "stream",
     "text": [
      "Model: \"model_1\"\n",
      "_________________________________________________________________\n",
      "Layer (type)                 Output Shape              Param #   \n",
      "=================================================================\n",
      "input_1 (InputLayer)         (None, 150, 150, 3)       0         \n",
      "_________________________________________________________________\n",
      "block1_conv1 (Conv2D)        (None, 150, 150, 64)      1792      \n",
      "_________________________________________________________________\n",
      "block1_conv2 (Conv2D)        (None, 150, 150, 64)      36928     \n",
      "_________________________________________________________________\n",
      "block1_pool (MaxPooling2D)   (None, 75, 75, 64)        0         \n",
      "_________________________________________________________________\n",
      "block2_conv1 (Conv2D)        (None, 75, 75, 128)       73856     \n",
      "_________________________________________________________________\n",
      "block2_conv2 (Conv2D)        (None, 75, 75, 128)       147584    \n",
      "_________________________________________________________________\n",
      "block2_pool (MaxPooling2D)   (None, 37, 37, 128)       0         \n",
      "_________________________________________________________________\n",
      "block3_conv1 (Conv2D)        (None, 37, 37, 256)       295168    \n",
      "_________________________________________________________________\n",
      "block3_conv2 (Conv2D)        (None, 37, 37, 256)       590080    \n",
      "_________________________________________________________________\n",
      "block3_conv3 (Conv2D)        (None, 37, 37, 256)       590080    \n",
      "_________________________________________________________________\n",
      "block3_pool (MaxPooling2D)   (None, 18, 18, 256)       0         \n",
      "_________________________________________________________________\n",
      "block4_conv1 (Conv2D)        (None, 18, 18, 512)       1180160   \n",
      "_________________________________________________________________\n",
      "block4_conv2 (Conv2D)        (None, 18, 18, 512)       2359808   \n",
      "_________________________________________________________________\n",
      "block4_conv3 (Conv2D)        (None, 18, 18, 512)       2359808   \n",
      "_________________________________________________________________\n",
      "block4_pool (MaxPooling2D)   (None, 9, 9, 512)         0         \n",
      "_________________________________________________________________\n",
      "block5_conv1 (Conv2D)        (None, 9, 9, 512)         2359808   \n",
      "_________________________________________________________________\n",
      "block5_conv2 (Conv2D)        (None, 9, 9, 512)         2359808   \n",
      "_________________________________________________________________\n",
      "block5_conv3 (Conv2D)        (None, 9, 9, 512)         2359808   \n",
      "_________________________________________________________________\n",
      "block5_pool (MaxPooling2D)   (None, 4, 4, 512)         0         \n",
      "_________________________________________________________________\n",
      "flatten_1 (Flatten)          (None, 8192)              0         \n",
      "=================================================================\n",
      "Total params: 14,714,688\n",
      "Trainable params: 7,079,424\n",
      "Non-trainable params: 7,635,264\n",
      "_________________________________________________________________\n"
     ]
    }
   ],
   "source": [
    "vggf.summary()   #summary of the trainable and non-trainable parameters"
   ]
  },
  {
   "cell_type": "markdown",
   "metadata": {},
   "source": [
    "Layers trainable in the VGG model."
   ]
  },
  {
   "cell_type": "code",
   "execution_count": 10,
   "metadata": {},
   "outputs": [
    {
     "data": {
      "text/html": [
       "<div>\n",
       "<style scoped>\n",
       "    .dataframe tbody tr th:only-of-type {\n",
       "        vertical-align: middle;\n",
       "    }\n",
       "\n",
       "    .dataframe tbody tr th {\n",
       "        vertical-align: top;\n",
       "    }\n",
       "\n",
       "    .dataframe thead th {\n",
       "        text-align: right;\n",
       "    }\n",
       "</style>\n",
       "<table border=\"1\" class=\"dataframe\">\n",
       "  <thead>\n",
       "    <tr style=\"text-align: right;\">\n",
       "      <th></th>\n",
       "      <th>Layer Type</th>\n",
       "      <th>Layer Name</th>\n",
       "      <th>Layer Trainable</th>\n",
       "    </tr>\n",
       "  </thead>\n",
       "  <tbody>\n",
       "    <tr>\n",
       "      <th>0</th>\n",
       "      <td>&lt;keras.engine.input_layer.InputLayer object at...</td>\n",
       "      <td>input_1</td>\n",
       "      <td>False</td>\n",
       "    </tr>\n",
       "    <tr>\n",
       "      <th>1</th>\n",
       "      <td>&lt;keras.layers.convolutional.Conv2D object at 0...</td>\n",
       "      <td>block1_conv1</td>\n",
       "      <td>False</td>\n",
       "    </tr>\n",
       "    <tr>\n",
       "      <th>2</th>\n",
       "      <td>&lt;keras.layers.convolutional.Conv2D object at 0...</td>\n",
       "      <td>block1_conv2</td>\n",
       "      <td>False</td>\n",
       "    </tr>\n",
       "    <tr>\n",
       "      <th>3</th>\n",
       "      <td>&lt;keras.layers.pooling.MaxPooling2D object at 0...</td>\n",
       "      <td>block1_pool</td>\n",
       "      <td>False</td>\n",
       "    </tr>\n",
       "    <tr>\n",
       "      <th>4</th>\n",
       "      <td>&lt;keras.layers.convolutional.Conv2D object at 0...</td>\n",
       "      <td>block2_conv1</td>\n",
       "      <td>False</td>\n",
       "    </tr>\n",
       "    <tr>\n",
       "      <th>5</th>\n",
       "      <td>&lt;keras.layers.convolutional.Conv2D object at 0...</td>\n",
       "      <td>block2_conv2</td>\n",
       "      <td>False</td>\n",
       "    </tr>\n",
       "    <tr>\n",
       "      <th>6</th>\n",
       "      <td>&lt;keras.layers.pooling.MaxPooling2D object at 0...</td>\n",
       "      <td>block2_pool</td>\n",
       "      <td>False</td>\n",
       "    </tr>\n",
       "    <tr>\n",
       "      <th>7</th>\n",
       "      <td>&lt;keras.layers.convolutional.Conv2D object at 0...</td>\n",
       "      <td>block3_conv1</td>\n",
       "      <td>False</td>\n",
       "    </tr>\n",
       "    <tr>\n",
       "      <th>8</th>\n",
       "      <td>&lt;keras.layers.convolutional.Conv2D object at 0...</td>\n",
       "      <td>block3_conv2</td>\n",
       "      <td>False</td>\n",
       "    </tr>\n",
       "    <tr>\n",
       "      <th>9</th>\n",
       "      <td>&lt;keras.layers.convolutional.Conv2D object at 0...</td>\n",
       "      <td>block3_conv3</td>\n",
       "      <td>False</td>\n",
       "    </tr>\n",
       "    <tr>\n",
       "      <th>10</th>\n",
       "      <td>&lt;keras.layers.pooling.MaxPooling2D object at 0...</td>\n",
       "      <td>block3_pool</td>\n",
       "      <td>False</td>\n",
       "    </tr>\n",
       "    <tr>\n",
       "      <th>11</th>\n",
       "      <td>&lt;keras.layers.convolutional.Conv2D object at 0...</td>\n",
       "      <td>block4_conv1</td>\n",
       "      <td>False</td>\n",
       "    </tr>\n",
       "    <tr>\n",
       "      <th>12</th>\n",
       "      <td>&lt;keras.layers.convolutional.Conv2D object at 0...</td>\n",
       "      <td>block4_conv2</td>\n",
       "      <td>False</td>\n",
       "    </tr>\n",
       "    <tr>\n",
       "      <th>13</th>\n",
       "      <td>&lt;keras.layers.convolutional.Conv2D object at 0...</td>\n",
       "      <td>block4_conv3</td>\n",
       "      <td>False</td>\n",
       "    </tr>\n",
       "    <tr>\n",
       "      <th>14</th>\n",
       "      <td>&lt;keras.layers.pooling.MaxPooling2D object at 0...</td>\n",
       "      <td>block4_pool</td>\n",
       "      <td>False</td>\n",
       "    </tr>\n",
       "    <tr>\n",
       "      <th>15</th>\n",
       "      <td>&lt;keras.layers.convolutional.Conv2D object at 0...</td>\n",
       "      <td>block5_conv1</td>\n",
       "      <td>True</td>\n",
       "    </tr>\n",
       "    <tr>\n",
       "      <th>16</th>\n",
       "      <td>&lt;keras.layers.convolutional.Conv2D object at 0...</td>\n",
       "      <td>block5_conv2</td>\n",
       "      <td>True</td>\n",
       "    </tr>\n",
       "    <tr>\n",
       "      <th>17</th>\n",
       "      <td>&lt;keras.layers.convolutional.Conv2D object at 0...</td>\n",
       "      <td>block5_conv3</td>\n",
       "      <td>True</td>\n",
       "    </tr>\n",
       "    <tr>\n",
       "      <th>18</th>\n",
       "      <td>&lt;keras.layers.pooling.MaxPooling2D object at 0...</td>\n",
       "      <td>block5_pool</td>\n",
       "      <td>True</td>\n",
       "    </tr>\n",
       "    <tr>\n",
       "      <th>19</th>\n",
       "      <td>&lt;keras.layers.core.Flatten object at 0x000001F...</td>\n",
       "      <td>flatten_1</td>\n",
       "      <td>True</td>\n",
       "    </tr>\n",
       "  </tbody>\n",
       "</table>\n",
       "</div>"
      ],
      "text/plain": [
       "                                           Layer Type    Layer Name  \\\n",
       "0   <keras.engine.input_layer.InputLayer object at...       input_1   \n",
       "1   <keras.layers.convolutional.Conv2D object at 0...  block1_conv1   \n",
       "2   <keras.layers.convolutional.Conv2D object at 0...  block1_conv2   \n",
       "3   <keras.layers.pooling.MaxPooling2D object at 0...   block1_pool   \n",
       "4   <keras.layers.convolutional.Conv2D object at 0...  block2_conv1   \n",
       "5   <keras.layers.convolutional.Conv2D object at 0...  block2_conv2   \n",
       "6   <keras.layers.pooling.MaxPooling2D object at 0...   block2_pool   \n",
       "7   <keras.layers.convolutional.Conv2D object at 0...  block3_conv1   \n",
       "8   <keras.layers.convolutional.Conv2D object at 0...  block3_conv2   \n",
       "9   <keras.layers.convolutional.Conv2D object at 0...  block3_conv3   \n",
       "10  <keras.layers.pooling.MaxPooling2D object at 0...   block3_pool   \n",
       "11  <keras.layers.convolutional.Conv2D object at 0...  block4_conv1   \n",
       "12  <keras.layers.convolutional.Conv2D object at 0...  block4_conv2   \n",
       "13  <keras.layers.convolutional.Conv2D object at 0...  block4_conv3   \n",
       "14  <keras.layers.pooling.MaxPooling2D object at 0...   block4_pool   \n",
       "15  <keras.layers.convolutional.Conv2D object at 0...  block5_conv1   \n",
       "16  <keras.layers.convolutional.Conv2D object at 0...  block5_conv2   \n",
       "17  <keras.layers.convolutional.Conv2D object at 0...  block5_conv3   \n",
       "18  <keras.layers.pooling.MaxPooling2D object at 0...   block5_pool   \n",
       "19  <keras.layers.core.Flatten object at 0x000001F...     flatten_1   \n",
       "\n",
       "    Layer Trainable  \n",
       "0             False  \n",
       "1             False  \n",
       "2             False  \n",
       "3             False  \n",
       "4             False  \n",
       "5             False  \n",
       "6             False  \n",
       "7             False  \n",
       "8             False  \n",
       "9             False  \n",
       "10            False  \n",
       "11            False  \n",
       "12            False  \n",
       "13            False  \n",
       "14            False  \n",
       "15             True  \n",
       "16             True  \n",
       "17             True  \n",
       "18             True  \n",
       "19             True  "
      ]
     },
     "execution_count": 10,
     "metadata": {},
     "output_type": "execute_result"
    }
   ],
   "source": [
    "layers = [(layer, layer.name, layer.trainable) for layer in vggf.layers]      \n",
    "pd.DataFrame(layers, columns=[\"Layer Type\", \"Layer Name\", \"Layer Trainable\"])"
   ]
  },
  {
   "cell_type": "markdown",
   "metadata": {},
   "source": [
    "Build classification layers and compile the model."
   ]
  },
  {
   "cell_type": "code",
   "execution_count": 19,
   "metadata": {},
   "outputs": [
    {
     "name": "stdout",
     "output_type": "stream",
     "text": [
      "Model: \"sequential_4\"\n",
      "_________________________________________________________________\n",
      "Layer (type)                 Output Shape              Param #   \n",
      "=================================================================\n",
      "model_1 (Model)              (None, 8192)              14714688  \n",
      "_________________________________________________________________\n",
      "dense_9 (Dense)              (None, 216)               1769688   \n",
      "_________________________________________________________________\n",
      "dropout_6 (Dropout)          (None, 216)               0         \n",
      "_________________________________________________________________\n",
      "dense_10 (Dense)             (None, 96)                20832     \n",
      "_________________________________________________________________\n",
      "dropout_7 (Dropout)          (None, 96)                0         \n",
      "_________________________________________________________________\n",
      "dense_11 (Dense)             (None, 5)                 485       \n",
      "=================================================================\n",
      "Total params: 16,505,693\n",
      "Trainable params: 8,870,429\n",
      "Non-trainable params: 7,635,264\n",
      "_________________________________________________________________\n"
     ]
    }
   ],
   "source": [
    "#Build classification layers \n",
    "mod = Sequential()\n",
    "\n",
    "mod.add(vggf)   #add vgg16 model as base\n",
    "mod.add(Dense(216, activation=\"relu\"))\n",
    "mod.add(Dropout(0.2))\n",
    "mod.add(Dense(96, activation=\"relu\"))\n",
    "mod.add(Dropout(0.2))\n",
    "mod.add(Dense(5, activation=\"softmax\"))\n",
    "\n",
    "#Compile the model\n",
    "mod.compile(loss=\"categorical_crossentropy\", optimizer=\"adam\", metrics=[\"accuracy\"])\n",
    "mod.summary()"
   ]
  },
  {
   "cell_type": "markdown",
   "metadata": {},
   "source": [
    "Perform training on the dataset."
   ]
  },
  {
   "cell_type": "code",
   "execution_count": 20,
   "metadata": {
    "scrolled": true
   },
   "outputs": [
    {
     "name": "stdout",
     "output_type": "stream",
     "text": [
      "Epoch 1/50\n",
      "15/15 [==============================] - 7s 475ms/step - loss: 311.6001 - accuracy: 0.3333 - val_loss: 5.1832 - val_accuracy: 0.4800\n",
      "Epoch 2/50\n",
      "15/15 [==============================] - 6s 403ms/step - loss: 2.6385 - accuracy: 0.4533 - val_loss: 2.1260 - val_accuracy: 0.3200\n",
      "Epoch 3/50\n",
      "15/15 [==============================] - 6s 410ms/step - loss: 1.2709 - accuracy: 0.5000 - val_loss: 1.0729 - val_accuracy: 0.5600\n",
      "Epoch 4/50\n",
      "15/15 [==============================] - 6s 411ms/step - loss: 0.9383 - accuracy: 0.6467 - val_loss: 1.6869 - val_accuracy: 0.4200\n",
      "Epoch 5/50\n",
      "15/15 [==============================] - 6s 416ms/step - loss: 0.8511 - accuracy: 0.6533 - val_loss: 2.0819 - val_accuracy: 0.5200\n",
      "Epoch 6/50\n",
      "15/15 [==============================] - 6s 413ms/step - loss: 0.4148 - accuracy: 0.8600 - val_loss: 1.4437 - val_accuracy: 0.6400\n",
      "Epoch 7/50\n",
      "15/15 [==============================] - 6s 415ms/step - loss: 0.6183 - accuracy: 0.8533 - val_loss: 3.2368 - val_accuracy: 0.6000\n",
      "Epoch 8/50\n",
      "15/15 [==============================] - 6s 409ms/step - loss: 0.6218 - accuracy: 0.8467 - val_loss: 1.6847 - val_accuracy: 0.7000\n",
      "Epoch 9/50\n",
      "15/15 [==============================] - 6s 409ms/step - loss: 0.1840 - accuracy: 0.9600 - val_loss: 0.0766 - val_accuracy: 0.7800\n",
      "Epoch 10/50\n",
      "15/15 [==============================] - 6s 414ms/step - loss: 0.1309 - accuracy: 0.9400 - val_loss: 0.1191 - val_accuracy: 0.8400\n",
      "Epoch 11/50\n",
      "15/15 [==============================] - 6s 428ms/step - loss: 0.1923 - accuracy: 0.9600 - val_loss: 1.7599 - val_accuracy: 0.7800\n",
      "Epoch 12/50\n",
      "15/15 [==============================] - 6s 425ms/step - loss: 0.1192 - accuracy: 0.9533 - val_loss: 0.7238 - val_accuracy: 0.7200\n",
      "Epoch 13/50\n",
      "15/15 [==============================] - 6s 410ms/step - loss: 0.2033 - accuracy: 0.9533 - val_loss: 0.0887 - val_accuracy: 0.7200\n",
      "Epoch 14/50\n",
      "15/15 [==============================] - 6s 411ms/step - loss: 0.3812 - accuracy: 0.8800 - val_loss: 1.5755 - val_accuracy: 0.6200\n",
      "Epoch 15/50\n",
      "15/15 [==============================] - 6s 409ms/step - loss: 0.7447 - accuracy: 0.9000 - val_loss: 8.7883 - val_accuracy: 0.6600\n",
      "Epoch 16/50\n",
      "15/15 [==============================] - 6s 409ms/step - loss: 0.3376 - accuracy: 0.9067 - val_loss: 1.1898 - val_accuracy: 0.7200\n",
      "Epoch 17/50\n",
      "15/15 [==============================] - 6s 419ms/step - loss: 0.3753 - accuracy: 0.9067 - val_loss: 2.3639 - val_accuracy: 0.6800\n",
      "Epoch 18/50\n",
      "15/15 [==============================] - 6s 408ms/step - loss: 0.5624 - accuracy: 0.8267 - val_loss: 0.0209 - val_accuracy: 0.8000\n",
      "Epoch 19/50\n",
      "15/15 [==============================] - 6s 429ms/step - loss: 0.4810 - accuracy: 0.9067 - val_loss: 0.9173 - val_accuracy: 0.8200\n",
      "Epoch 20/50\n",
      "15/15 [==============================] - 7s 462ms/step - loss: 0.3909 - accuracy: 0.9333 - val_loss: 0.6417 - val_accuracy: 0.7400\n",
      "Epoch 21/50\n",
      "15/15 [==============================] - 6s 406ms/step - loss: 0.1480 - accuracy: 0.9667 - val_loss: 10.2322 - val_accuracy: 0.7800\n",
      "Epoch 22/50\n",
      "15/15 [==============================] - 6s 413ms/step - loss: 0.0774 - accuracy: 0.9600 - val_loss: 2.0164 - val_accuracy: 0.7800\n",
      "Epoch 23/50\n",
      "15/15 [==============================] - 6s 406ms/step - loss: 0.0502 - accuracy: 0.9867 - val_loss: 0.3265 - val_accuracy: 0.8000\n",
      "Epoch 24/50\n",
      "15/15 [==============================] - 6s 410ms/step - loss: 0.2327 - accuracy: 0.9600 - val_loss: 4.5869 - val_accuracy: 0.8400\n",
      "Epoch 25/50\n",
      "15/15 [==============================] - 6s 406ms/step - loss: 0.0748 - accuracy: 0.9867 - val_loss: 2.6868 - val_accuracy: 0.8000\n",
      "Epoch 26/50\n",
      "15/15 [==============================] - 6s 412ms/step - loss: 0.0516 - accuracy: 0.9867 - val_loss: 0.7944 - val_accuracy: 0.7200\n",
      "Epoch 27/50\n",
      "15/15 [==============================] - 6s 411ms/step - loss: 0.2730 - accuracy: 0.9467 - val_loss: 0.2758 - val_accuracy: 0.7600\n",
      "Epoch 28/50\n",
      "15/15 [==============================] - 6s 429ms/step - loss: 0.0438 - accuracy: 0.9800 - val_loss: 0.8104 - val_accuracy: 0.7200\n",
      "Epoch 29/50\n",
      "15/15 [==============================] - 8s 502ms/step - loss: 0.6440 - accuracy: 0.9200 - val_loss: 0.8671 - val_accuracy: 0.6200\n",
      "Epoch 30/50\n",
      "15/15 [==============================] - 8s 509ms/step - loss: 0.7733 - accuracy: 0.8000 - val_loss: 0.5164 - val_accuracy: 0.6800\n",
      "Epoch 31/50\n",
      "15/15 [==============================] - 7s 482ms/step - loss: 0.2629 - accuracy: 0.9133 - val_loss: 0.3249 - val_accuracy: 0.7400\n",
      "Epoch 32/50\n",
      "15/15 [==============================] - 7s 457ms/step - loss: 0.0295 - accuracy: 0.9867 - val_loss: 0.4327 - val_accuracy: 0.8400\n",
      "Epoch 33/50\n",
      "15/15 [==============================] - 6s 422ms/step - loss: 0.0026 - accuracy: 1.0000 - val_loss: 16.5575 - val_accuracy: 0.8400\n",
      "Epoch 34/50\n",
      "15/15 [==============================] - 7s 440ms/step - loss: 0.1452 - accuracy: 0.9800 - val_loss: 7.9521 - val_accuracy: 0.7200\n",
      "Epoch 35/50\n",
      "15/15 [==============================] - 8s 511ms/step - loss: 0.0522 - accuracy: 0.9867 - val_loss: 5.6017 - val_accuracy: 0.8400\n",
      "Epoch 36/50\n",
      "15/15 [==============================] - 7s 438ms/step - loss: 0.2619 - accuracy: 0.9733 - val_loss: 2.8259 - val_accuracy: 0.8000\n",
      "Epoch 37/50\n",
      "15/15 [==============================] - 6s 416ms/step - loss: 0.1530 - accuracy: 0.9800 - val_loss: 2.5138 - val_accuracy: 0.7600\n",
      "Epoch 38/50\n",
      "15/15 [==============================] - 6s 414ms/step - loss: 0.4233 - accuracy: 0.9533 - val_loss: 11.8720 - val_accuracy: 0.8000\n",
      "Epoch 39/50\n",
      "15/15 [==============================] - 6s 417ms/step - loss: 0.6284 - accuracy: 0.9267 - val_loss: 1.4283 - val_accuracy: 0.8000\n",
      "Epoch 40/50\n",
      "15/15 [==============================] - 7s 497ms/step - loss: 0.1080 - accuracy: 0.9867 - val_loss: 1.9782 - val_accuracy: 0.7400\n",
      "Epoch 41/50\n",
      "15/15 [==============================] - 10s 693ms/step - loss: 0.5879 - accuracy: 0.9600 - val_loss: 0.9773 - val_accuracy: 0.7600\n",
      "Epoch 42/50\n",
      "15/15 [==============================] - 9s 603ms/step - loss: 0.2127 - accuracy: 0.9533 - val_loss: 3.5344 - val_accuracy: 0.7200\n",
      "Epoch 43/50\n",
      "15/15 [==============================] - 11s 758ms/step - loss: 0.1841 - accuracy: 0.9400 - val_loss: 16.3605 - val_accuracy: 0.6400\n",
      "Epoch 44/50\n",
      "15/15 [==============================] - 11s 746ms/step - loss: 0.0693 - accuracy: 0.9733 - val_loss: 1.4880 - val_accuracy: 0.7400\n",
      "Epoch 45/50\n",
      "15/15 [==============================] - 11s 750ms/step - loss: 0.1416 - accuracy: 0.9800 - val_loss: 0.0018 - val_accuracy: 0.8200\n",
      "Epoch 46/50\n",
      "15/15 [==============================] - 9s 631ms/step - loss: 0.1339 - accuracy: 0.9667 - val_loss: 1.5032 - val_accuracy: 0.8000\n",
      "Epoch 47/50\n",
      "15/15 [==============================] - 7s 463ms/step - loss: 0.0231 - accuracy: 0.9933 - val_loss: 25.6808 - val_accuracy: 0.7600\n",
      "Epoch 48/50\n",
      "15/15 [==============================] - 7s 477ms/step - loss: 0.4007 - accuracy: 0.9600 - val_loss: 3.2118 - val_accuracy: 0.8200\n",
      "Epoch 49/50\n",
      "15/15 [==============================] - 9s 619ms/step - loss: 0.6583 - accuracy: 0.8533 - val_loss: 6.0461 - val_accuracy: 0.8400\n",
      "Epoch 50/50\n",
      "15/15 [==============================] - 6s 420ms/step - loss: 0.9066 - accuracy: 0.9200 - val_loss: 0.7977 - val_accuracy: 0.8600\n"
     ]
    }
   ],
   "source": [
    "hisb = mod.fit_generator(tr_gen, steps_per_epoch=15, epochs=50, validation_data=v_gen, validation_steps=5, shuffle = True)\n"
   ]
  },
  {
   "cell_type": "markdown",
   "metadata": {},
   "source": [
    "Plot the Loss and Accuracy graph."
   ]
  },
  {
   "cell_type": "code",
   "execution_count": 60,
   "metadata": {
    "scrolled": true
   },
   "outputs": [
    {
     "data": {
      "image/png": "[encoded data removed]",
      "text/plain": [
       "<Figure size 864x288 with 2 Axes>"
      ]
     },
     "metadata": {
      "needs_background": "light"
     },
     "output_type": "display_data"
    }
   ],
   "source": [
    "fig, (ax1, ax2) = plt.subplots(1, 2, figsize=(12, 4))\n",
    "fig.suptitle(\"Transfer learning with Fine Tuning Performance\", fontweight=\"bold\", fontsize=12)\n",
    "xrange = list(range(1,51))\n",
    "ax1.plot(xrange, hisb.history[\"accuracy\"], label=\"Train Accuracy\", color=\"y\")\n",
    "ax1.plot(xrange, hisb.history[\"val_accuracy\"], label=\"Validation Accuracy\", color=\"k\")\n",
    "ax1.set_xticks(np.arange(0, 51, 5))\n",
    "ax1.set_ylabel(\"Accuracy Value\")\n",
    "ax1.set_xlabel(\"Epoch\")\n",
    "ax1.set_title('Accuracy')\n",
    "l1 = ax1.legend(loc=\"best\")\n",
    "\n",
    "ax2.plot(xrange, hisb.history[\"loss\"], label=\"Train Loss\",color=\"y\")\n",
    "ax2.plot(xrange, hisb.history[\"val_loss\"], label=\"Validation Loss\", color=\"k\")\n",
    "ax2.set_xticks(np.arange(0, 51, 5))\n",
    "ax2.set_ylabel(\"Loss Value\")\n",
    "ax2.set_xlabel(\"Epoch\")\n",
    "ax2.set_title(\"Loss\")\n",
    "l2 = ax2.legend(loc=\"best\")"
   ]
  },
  {
   "cell_type": "code",
   "execution_count": 25,
   "metadata": {},
   "outputs": [],
   "source": [
    "# mod.save(\"finetunetest.h5\")"
   ]
  },
  {
   "cell_type": "markdown",
   "metadata": {},
   "source": [
    "We have saved both models. Next, we will test the performance of the both models."
   ]
  },
  {
   "cell_type": "markdown",
   "metadata": {},
   "source": [
    "#### Testing with performance matrix"
   ]
  },
  {
   "cell_type": "markdown",
   "metadata": {},
   "source": [
    "Load the test dataset for prediction."
   ]
  },
  {
   "cell_type": "code",
   "execution_count": 29,
   "metadata": {},
   "outputs": [],
   "source": [
    "#resizing testing dataset and spliting name of label according to their category\n",
    "test_images = [img_to_array(load_img(img, target_size=IMG_DIM)) for img in test]\n",
    "test_images = np.array(test_images)\n",
    "test_labels = [w.split(\"\\\\\")[0].split(\".\")[0].strip() for w in test]\n",
    "\n",
    "#normalize the data\n",
    "test_images_scaled = test_images.astype(\"float32\")/255.0"
   ]
  },
  {
   "cell_type": "code",
   "execution_count": 35,
   "metadata": {},
   "outputs": [],
   "source": [
    "#label encode to convert test labels to numerical values\n",
    "le = LabelEncoder()\n",
    "le.fit(test_labels)\n",
    "test_lab_enc = le.transform(test_labels)     "
   ]
  },
  {
   "cell_type": "markdown",
   "metadata": {},
   "source": [
    "Loading pre-trained model."
   ]
  },
  {
   "cell_type": "code",
   "execution_count": 4,
   "metadata": {},
   "outputs": [],
   "source": [
    "cnn = load_model(\"imgaugtest.h5\")   #load image-augmented model"
   ]
  },
  {
   "cell_type": "code",
   "execution_count": 3,
   "metadata": {},
   "outputs": [],
   "source": [
    "ftune = load_model(\"finetunetest.h5\")   #load fine-tuned model"
   ]
  },
  {
   "cell_type": "code",
   "execution_count": 43,
   "metadata": {},
   "outputs": [
    {
     "name": "stdout",
     "output_type": "stream",
     "text": [
      "The classes are as follow:\n",
      "\n",
      " 0: balbasaur\n",
      " 1: charmander\n",
      " 2: mewtwo\n",
      " 3: pikachu\n",
      " 4: squirtle\n"
     ]
    }
   ],
   "source": [
    "print(\"The classes are as follow:\\n\\n 0: balbasaur\\n 1: charmander\\n 2: mewtwo\\n 3: pikachu\\n 4: squirtle\")"
   ]
  },
  {
   "cell_type": "markdown",
   "metadata": {},
   "source": [
    "Using the test dataset for prediction."
   ]
  },
  {
   "cell_type": "code",
   "execution_count": 38,
   "metadata": {},
   "outputs": [
    {
     "data": {
      "text/plain": [
       "array([3, 3, 3, 3, 3, 3, 3, 3, 3, 3, 4, 4, 4, 4, 4, 4, 4, 4, 4, 4, 2, 2,\n",
       "       2, 2, 2, 2, 2, 2, 2, 2, 0, 0, 0, 0, 0, 0, 0, 0, 0, 0, 1, 1, 1, 1,\n",
       "       1, 1, 1, 1, 1, 1], dtype=int64)"
      ]
     },
     "execution_count": 38,
     "metadata": {},
     "output_type": "execute_result"
    }
   ],
   "source": [
    "test_lab_enc  #actual classes in the test dataset"
   ]
  },
  {
   "cell_type": "code",
   "execution_count": 32,
   "metadata": {},
   "outputs": [
    {
     "data": {
      "text/plain": [
       "array([3, 3, 3, 3, 2, 3, 3, 3, 3, 3, 4, 2, 4, 4, 4, 4, 2, 4, 4, 3, 2, 2,\n",
       "       2, 2, 2, 2, 2, 2, 2, 2, 0, 0, 2, 0, 4, 0, 0, 0, 0, 0, 1, 1, 1, 1,\n",
       "       1, 1, 1, 4, 4, 1], dtype=int64)"
      ]
     },
     "execution_count": 32,
     "metadata": {},
     "output_type": "execute_result"
    }
   ],
   "source": [
    "predict = ftune.predict_classes(test_images_scaled, verbose=0)    #prediction of fine-tuned model"
   ]
  },
  {
   "cell_type": "code",
   "execution_count": 31,
   "metadata": {},
   "outputs": [
    {
     "data": {
      "text/plain": [
       "array([3, 3, 3, 3, 4, 3, 3, 3, 3, 3, 4, 4, 4, 4, 4, 4, 4, 4, 4, 4, 2, 2,\n",
       "       2, 2, 2, 2, 2, 2, 2, 2, 0, 0, 0, 0, 0, 0, 0, 0, 0, 0, 1, 1, 1, 1,\n",
       "       1, 1, 1, 1, 4, 1], dtype=int64)"
      ]
     },
     "execution_count": 31,
     "metadata": {},
     "output_type": "execute_result"
    }
   ],
   "source": [
    "predictions = cnn.predict_classes(test_images_scaled, verbose=0)  #prediction of image-augmented model"
   ]
  },
  {
   "cell_type": "markdown",
   "metadata": {},
   "source": [
    "Performance Metrics of both models."
   ]
  },
  {
   "cell_type": "code",
   "execution_count": 62,
   "metadata": {},
   "outputs": [
    {
     "name": "stdout",
     "output_type": "stream",
     "text": [
      "Performance Metrics of fine-tuned model:\n",
      "\n",
      "Accuracy: 0.8400\n",
      "Precision: 0.8629\n",
      "Recall: 0.8400\n",
      "F1 Score: 0.8422\n"
     ]
    }
   ],
   "source": [
    "def metric(true_lab, pred_lab):\n",
    "    \n",
    "    print(\"Accuracy: {:.4f}\".format(accuracy_score(true_lab, pred_lab)))\n",
    "    print(\"Precision: {:.4f}\".format(precision_score(true_lab, pred_lab,average=\"weighted\")))\n",
    "    print(\"Recall: {:.4f}\".format(recall_score(true_lab, pred_lab,average=\"weighted\")))\n",
    "    print(\"F1 Score: {:.4f}\".format(f1_score(true_lab, pred_lab,average=\"weighted\")))\n",
    "\n",
    "print(\"Performance Metrics of fine-tuned model:\\n\")\n",
    "\n",
    "metric(test_lab_enc, predict)"
   ]
  },
  {
   "cell_type": "code",
   "execution_count": 63,
   "metadata": {},
   "outputs": [
    {
     "name": "stdout",
     "output_type": "stream",
     "text": [
      "Performance Metrics of image-augmented model:\n",
      "\n",
      "Accuracy: 0.9600\n",
      "Precision: 0.9667\n",
      "Recall: 0.9600\n",
      "F1 Score: 0.9608\n"
     ]
    }
   ],
   "source": [
    "def metrics(true_lab, pred_lab):\n",
    "    \n",
    "    print(\"Accuracy: {:.4f}\".format(accuracy_score(true_lab, pred_lab)))\n",
    "    print(\"Precision: {:.4f}\".format(precision_score(true_lab, pred_lab,average=\"weighted\")))\n",
    "    print(\"Recall: {:.4f}\".format(recall_score(true_lab, pred_lab,average=\"weighted\")))\n",
    "    print(\"F1 Score: {:.4f}\".format(f1_score(true_lab, pred_lab,average=\"weighted\")))\n",
    "\n",
    "print(\"Performance Metrics of image-augmented model:\\n\")\n",
    "\n",
    "metrics(test_lab_enc, predictions)"
   ]
  },
  {
   "cell_type": "markdown",
   "metadata": {},
   "source": [
    "Classification report of both models."
   ]
  },
  {
   "cell_type": "code",
   "execution_count": 33,
   "metadata": {},
   "outputs": [
    {
     "name": "stdout",
     "output_type": "stream",
     "text": [
      "Classification report of fine-tuned model\n",
      "\n",
      "               precision    recall  f1-score   support\n",
      "\n",
      "           0       1.00      0.80      0.89        10\n",
      "           1       1.00      0.80      0.89        10\n",
      "           2       0.71      1.00      0.83        10\n",
      "           3       0.90      0.90      0.90        10\n",
      "           4       0.70      0.70      0.70        10\n",
      "\n",
      "    accuracy                           0.84        50\n",
      "   macro avg       0.86      0.84      0.84        50\n",
      "weighted avg       0.86      0.84      0.84        50\n",
      "\n"
     ]
    }
   ],
   "source": [
    "report = classification_report(y_true=test_lab_enc, y_pred=predict) \n",
    "print(\"Classification report of fine-tuned model:\\n\\n {}\".format(report))\n"
   ]
  },
  {
   "cell_type": "code",
   "execution_count": 40,
   "metadata": {},
   "outputs": [
    {
     "name": "stdout",
     "output_type": "stream",
     "text": [
      "Classification report of image-augmented model\n",
      "\n",
      "               precision    recall  f1-score   support\n",
      "\n",
      "           0       1.00      1.00      1.00        10\n",
      "           1       1.00      0.90      0.95        10\n",
      "           2       1.00      1.00      1.00        10\n",
      "           3       1.00      0.90      0.95        10\n",
      "           4       0.83      1.00      0.91        10\n",
      "\n",
      "    accuracy                           0.96        50\n",
      "   macro avg       0.97      0.96      0.96        50\n",
      "weighted avg       0.97      0.96      0.96        50\n",
      "\n"
     ]
    }
   ],
   "source": [
    "report = classification_report(y_true=test_lab_enc, y_pred=predictions) \n",
    "print(\"Classification report of image-augmented model:\\n\\n {}\".format(report))\n"
   ]
  },
  {
   "cell_type": "markdown",
   "metadata": {},
   "source": [
    "Confusion matrix of both models."
   ]
  },
  {
   "cell_type": "markdown",
   "metadata": {},
   "source": [
    "Fine-tuned model"
   ]
  },
  {
   "cell_type": "code",
   "execution_count": 56,
   "metadata": {},
   "outputs": [
    {
     "data": {
      "text/plain": [
       "array([[ 8,  0,  1,  0,  1],\n",
       "       [ 0,  8,  0,  0,  2],\n",
       "       [ 0,  0, 10,  0,  0],\n",
       "       [ 0,  0,  1,  9,  0],\n",
       "       [ 0,  0,  2,  1,  7]], dtype=int64)"
      ]
     },
     "execution_count": 56,
     "metadata": {},
     "output_type": "execute_result"
    }
   ],
   "source": [
    "ft = confusion_matrix(y_true=test_lab_enc, y_pred=predict)\n",
    "ft"
   ]
  },
  {
   "cell_type": "code",
   "execution_count": 81,
   "metadata": {},
   "outputs": [
    {
     "data": {
      "text/plain": [
       "Text(0.5, 15.0, 'Ground Truth')"
      ]
     },
     "execution_count": 81,
     "metadata": {},
     "output_type": "execute_result"
    },
    {
     "data": {
      "image/png": "[encoded data removed]",
      "text/plain": [
       "<Figure size 360x288 with 2 Axes>"
      ]
     },
     "metadata": {
      "needs_background": "light"
     },
     "output_type": "display_data"
    }
   ],
   "source": [
    "fig, ax = plt.subplots(figsize=(5,4))\n",
    "sns.heatmap(ft, annot=True, fmt=\"d\", cmap=\"Blues\")\n",
    "labels = [\"balba\", \"char\", \"mewtwo\", \"pika\", \"squir\"]\n",
    "ax.set_xticklabels(labels)\n",
    "ax.set_yticklabels(labels)\n",
    "ax.set_ylabel(\"Prediction\", fontweight=\"bold\", fontsize=12)\n",
    "ax.set_xlabel(\"Ground Truth\", fontweight=\"bold\", fontsize=12)"
   ]
  },
  {
   "cell_type": "markdown",
   "metadata": {},
   "source": [
    "Image-augmented model"
   ]
  },
  {
   "cell_type": "code",
   "execution_count": 58,
   "metadata": {},
   "outputs": [
    {
     "data": {
      "text/plain": [
       "array([[10,  0,  0,  0,  0],\n",
       "       [ 0,  9,  0,  0,  1],\n",
       "       [ 0,  0, 10,  0,  0],\n",
       "       [ 0,  0,  0,  9,  1],\n",
       "       [ 0,  0,  0,  0, 10]], dtype=int64)"
      ]
     },
     "execution_count": 58,
     "metadata": {},
     "output_type": "execute_result"
    }
   ],
   "source": [
    "imaug = confusion_matrix(y_true=test_lab_enc, y_pred=predictions)\n",
    "imaug"
   ]
  },
  {
   "cell_type": "code",
   "execution_count": 80,
   "metadata": {},
   "outputs": [
    {
     "data": {
      "text/plain": [
       "Text(0.5, 15.0, 'Ground Truth')"
      ]
     },
     "execution_count": 80,
     "metadata": {},
     "output_type": "execute_result"
    },
    {
     "data": {
      "image/png": "[encoded data removed]",
      "text/plain": [
       "<Figure size 360x288 with 2 Axes>"
      ]
     },
     "metadata": {
      "needs_background": "light"
     },
     "output_type": "display_data"
    }
   ],
   "source": [
    "fig, ax = plt.subplots(figsize=(5,4))\n",
    "sns.heatmap(imaug, annot=True, fmt=\"d\", cmap=\"Reds\")\n",
    "labels = [\"balba\", \"char\", \"mewtwo\", \"pika\", \"squir\"]\n",
    "ax.set_xticklabels(labels)\n",
    "ax.set_yticklabels(labels)\n",
    "ax.set_ylabel(\"Prediction\", fontweight=\"bold\", fontsize=12)\n",
    "ax.set_xlabel(\"Ground Truth\", fontweight=\"bold\", fontsize=12)"
   ]
  },
  {
   "cell_type": "markdown",
   "metadata": {},
   "source": [
    "Let's use the fine-tuned model to predict random images downloaded which are not in the test dataset."
   ]
  },
  {
   "cell_type": "code",
   "execution_count": 88,
   "metadata": {},
   "outputs": [
    {
     "data": {
      "text/plain": [
       "<matplotlib.image.AxesImage at 0x243967d2f28>"
      ]
     },
     "execution_count": 88,
     "metadata": {},
     "output_type": "execute_result"
    },
    {
     "data": {
      "image/png": "[encoded data removed]",
      "text/plain": [
       "<Figure size 432x288 with 1 Axes>"
      ]
     },
     "metadata": {
      "needs_background": "light"
     },
     "output_type": "display_data"
    }
   ],
   "source": [
    "img = imread(\"char_test.jpeg\")\n",
    "npImg = np.array(img)\n",
    "plt.imshow(Image.fromarray(npImg))"
   ]
  },
  {
   "cell_type": "code",
   "execution_count": 14,
   "metadata": {},
   "outputs": [
    {
     "name": "stdout",
     "output_type": "stream",
     "text": [
      "The probabilities of all the classes: [[3.5184200e-03 9.2323291e-01 7.2523803e-02 4.6355222e-04 2.6131619e-04]]\n",
      "The index of the predicted (highest proba) class: 1\n",
      "The predicted class is charmander.\n"
     ]
    }
   ],
   "source": [
    "#load the image \n",
    "img = imread(\"char_test.jpeg\")\n",
    "\n",
    "#pre-processing the test image\n",
    "image = cv2.resize(img, (150, 150))\n",
    "image = image.astype(\"float\")/255.0\n",
    "image = img_to_array(image)\n",
    "image = np.expand_dims(image, axis=0)\n",
    "\n",
    "#classify the input image\n",
    "pred = cnn.predict(image)  \n",
    "print(\"The probabilities of all the classes: {}\".format(pred))\n",
    "idx = np.argmax(pred)\n",
    "print(\"The index of the predicted (highest proba) class: {}\".format(idx))\n",
    "#The classes are in order accordance to the trained model(alphabetical)\n",
    "pred = [\"balbasaur\", \"charmander\", \"mewtwo\", \"pikachu\", \"squirtle\"][idx]  \n",
    "print(\"The predicted class is {}.\".format(pred))\n"
   ]
  },
  {
   "cell_type": "code",
   "execution_count": 109,
   "metadata": {},
   "outputs": [
    {
     "data": {
      "text/plain": [
       "<matplotlib.image.AxesImage at 0x24396d26fd0>"
      ]
     },
     "execution_count": 109,
     "metadata": {},
     "output_type": "execute_result"
    },
    {
     "data": {
      "image/png": "[encoded data removed]",
      "text/plain": [
       "<Figure size 432x288 with 1 Axes>"
      ]
     },
     "metadata": {
      "needs_background": "light"
     },
     "output_type": "display_data"
    }
   ],
   "source": [
    "img = imread(\"pikachu_test.jpeg\")\n",
    "npImg = np.array(img)\n",
    "plt.imshow(Image.fromarray(npImg))"
   ]
  },
  {
   "cell_type": "code",
   "execution_count": 25,
   "metadata": {},
   "outputs": [
    {
     "name": "stdout",
     "output_type": "stream",
     "text": [
      "The probabilities of all the classes: [[1.4482633e-15 6.0090399e-10 8.4369827e-09 1.0000000e+00 2.4945783e-15]]\n",
      "The index of the predicted (highest proba) class: 3\n",
      "The predicted class is pikachu.\n"
     ]
    }
   ],
   "source": [
    "#load the image \n",
    "im = imread(\"pikachu_test.jpeg\")\n",
    "\n",
    "#pre-processing the test image\n",
    "ima = cv2.resize(im, (150, 150))\n",
    "ima = ima.astype(\"float\")/255.0\n",
    "ima = img_to_array(ima)\n",
    "ima = np.expand_dims(ima, axis=0)\n",
    "\n",
    "#classify the input image\n",
    "predict = ftune.predict(ima)  \n",
    "print(\"The probabilities of all the classes: {}\".format(predict))\n",
    "idx = np.argmax(predict)\n",
    "print(\"The index of the predicted (highest proba) class: {}\".format(idx))\n",
    "#The classes are in order accordance to the trained model(alphabetical)\n",
    "predict = [\"balbasaur\", \"charmander\", \"mewtwo\", \"pikachu\", \"squirtle\"][idx]  \n",
    "print(\"The predicted class is {}.\".format(predict))"
   ]
  },
  {
   "cell_type": "code",
   "execution_count": 37,
   "metadata": {},
   "outputs": [
    {
     "name": "stdout",
     "output_type": "stream",
     "text": [
      "The probabilities of all the classes: [[3.9553558e-10 6.6614365e-07 9.9999928e-01 8.2283680e-10 1.5609548e-09]]\n",
      "The index of the predicted (highest proba) class: 2\n",
      "The predicted class is mewtwo.\n"
     ]
    }
   ],
   "source": [
    "#load the image \n",
    "im = imread(\"mewt.jfif\")\n",
    "\n",
    "#pre-processing the test image\n",
    "ima = cv2.resize(im, (150, 150))\n",
    "ima = ima.astype(\"float\")/255.0\n",
    "ima = img_to_array(ima)\n",
    "ima = np.expand_dims(ima, axis=0)\n",
    "\n",
    "#classify the input image\n",
    "predict = cnn.predict(ima)  \n",
    "print(\"The probabilities of all the classes: {}\".format(predict))\n",
    "idx = np.argmax(predict)\n",
    "print(\"The index of the predicted (highest proba) class: {}\".format(idx))\n",
    "#The classes are in order accordance to the trained model(alphabetical)\n",
    "predict = [\"balbasaur\", \"charmander\", \"mewtwo\", \"pikachu\", \"squirtle\"][idx]  \n",
    "print(\"The predicted class is {}.\".format(predict))"
   ]
  }
 ],
 "metadata": {
  "kernelspec": {
   "display_name": "Python 3",
   "language": "python",
   "name": "python3"
  },
  "language_info": {
   "codemirror_mode": {
    "name": "ipython",
    "version": 3
   },
   "file_extension": ".py",
   "mimetype": "text/x-python",
   "name": "python",
   "nbconvert_exporter": "python",
   "pygments_lexer": "ipython3",
   "version": "3.7.7"
  }
 },
 "nbformat": 4,
 "nbformat_minor": 4
}
